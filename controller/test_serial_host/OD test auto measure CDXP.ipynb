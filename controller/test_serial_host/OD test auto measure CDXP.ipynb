{
 "cells": [
  {
   "cell_type": "markdown",
   "metadata": {},
   "source": [
    "# OD Backup controller Align\n",
    "At some point the rotatation arm can get out of zero and will need to be adjusted.  This helps you do that process.\n",
    "\n",
    "\n",
    "To align (Servo version) follow the instruction in this notebook.\n",
    "\n",
    "- Test alignment\n",
    "- Make sure coarse alignment is ok\n",
    "- Fine tune\n",
    "- Test pickup and drop"
   ]
  },
  {
   "cell_type": "markdown",
   "metadata": {},
   "source": [
    "## CDBurnerXP Driver Controller"
   ]
  },
  {
   "cell_type": "code",
   "execution_count": 1,
   "metadata": {},
   "outputs": [
    {
     "name": "stdout",
     "output_type": "stream",
     "text": [
      "Populating the interactive namespace from numpy and matplotlib\n"
     ]
    }
   ],
   "source": [
    "# To allow graphs\n",
    "%pylab inline"
   ]
  },
  {
   "cell_type": "code",
   "execution_count": 2,
   "metadata": {},
   "outputs": [
    {
     "name": "stdout",
     "output_type": "stream",
     "text": [
      "Found D drive all ok\n"
     ]
    }
   ],
   "source": [
    "from od_media import ODMedia\n",
    "\n",
    "media = ODMedia()"
   ]
  },
  {
   "cell_type": "markdown",
   "metadata": {},
   "source": [
    "## Robot Control\n",
    "This imports the code."
   ]
  },
  {
   "cell_type": "code",
   "execution_count": 3,
   "metadata": {},
   "outputs": [
    {
     "name": "stdout",
     "output_type": "stream",
     "text": [
      "Robot>import control1\r\n",
      ">>> \n"
     ]
    }
   ],
   "source": [
    "import time\n",
    "\n",
    "import od_control\n",
    "\n",
    "robot = od_control.ODRobot(media.disk_open, media.disk_close, com_port=\"COM6\")"
   ]
  },
  {
   "cell_type": "markdown",
   "metadata": {},
   "source": [
    "# Toolhead Calibration"
   ]
  },
  {
   "cell_type": "code",
   "execution_count": 4,
   "metadata": {},
   "outputs": [
    {
     "name": "stdout",
     "output_type": "stream",
     "text": [
      "at top\n"
     ]
    }
   ],
   "source": [
    "#Make safe\n",
    "if robot.z_at_top():\n",
    "    print('at top')\n",
    "elif robot.z_at_bottom():\n",
    "    print('at bottom')\n",
    "    robot.zero_toolhead()\n",
    "elif robot.z_in_middle():\n",
    "    print('in middle')\n",
    "    robot.zero_toolhead()\n",
    "else:\n",
    "    print('Toolhead in error condition as not at top, bottom or middle')\n",
    "    raise Exception('Toolhead in unknown position - needs debugging')"
   ]
  },
  {
   "cell_type": "code",
   "execution_count": null,
   "metadata": {},
   "outputs": [],
   "source": [
    "# Test the DVD\n",
    "robot.disk_close()\n",
    "r1 = robot.measure_up_down(speed_offset=7, offset_middle=50)  \n",
    "# 7 offset from  seems ok large enough to get out of dead band and small enough not to go too fast\n",
    "# 50 Seems a general starting position if starting from scratch\n",
    "\n",
    "r1"
   ]
  },
  {
   "cell_type": "code",
   "execution_count": null,
   "metadata": {},
   "outputs": [],
   "source": [
    "r2 = robot.measure_up_down(speed_offset=5, offset_middle=r1[2])  # Recalculate slower and using revised estimate\n",
    "# 5 offset is max before inertia takes place and it over stops. You can see this on a move up\n",
    "# where the top bends a bit as it stops\n",
    "# So use 4 for production\n",
    "r2"
   ]
  },
  {
   "cell_type": "code",
   "execution_count": null,
   "metadata": {},
   "outputs": [],
   "source": [
    "# Now need to update driver with new calibration data for toolhead driving speed\n",
    "robot.calibration['z_axis_down_setting'] = r2[0][0]\n",
    "robot.calibration['z_axis_up_setting'] = r2[1][0]\n",
    "robot.save_calibration()"
   ]
  },
  {
   "cell_type": "markdown",
   "metadata": {},
   "source": [
    "## Test how center varies with time"
   ]
  },
  {
   "cell_type": "code",
   "execution_count": null,
   "metadata": {},
   "outputs": [],
   "source": [
    "def get_center():\n",
    "    r = robot.measure_up_down(speed_offset=5)  # Use existing middle as estaimte\n",
    "    return r[2]"
   ]
  },
  {
   "cell_type": "code",
   "execution_count": null,
   "metadata": {},
   "outputs": [],
   "source": [
    "get_center()"
   ]
  },
  {
   "cell_type": "code",
   "execution_count": null,
   "metadata": {},
   "outputs": [],
   "source": [
    "import time\n",
    "from matplotlib import animation\n",
    "from JSAnimation import IPython_display\n",
    "\n",
    "num_points = 10\n",
    "\n",
    "fig = plt.figure()\n",
    "ax = plt.axes(xlim=(0, num_points), ylim=(40, 60))\n",
    "line, = ax.plot([], [], lw=2)\n",
    "\n",
    "raw = np.zeros(num_points) # scale repeats to y axis limits\n",
    "\n",
    "\n",
    "def init():\n",
    "    line.set_data([], [])\n",
    "    return line,\n",
    "\n",
    "def animate(i):\n",
    "    x = np.linspace(0, i, i) # scale repeats to y axis limits\n",
    "    raw[i] = get_center() #50 + np.cos(0.02) * np.sin(i)\n",
    "    y = raw[:i] #50 + np.cos(0.02 * np.pi) * np.sin(x)\n",
    "    line.set_data(x, y)\n",
    "    return line,\n",
    "\n",
    "#def animate(i):\n",
    "#    # global x, y\n",
    "#    x = np.linspace(0, num_points, num_points) # scale repeats to y axis limits\n",
    "#    y = x * 2 #np.linspace(0, num_points, num_points) # scale repeats to y axis limits##\n",
    "\n",
    "    # y[i] = 50 + cos(0.02 * np.pi) * sin(x[i])\n",
    "    #line.set_data(x, y)\n",
    "    #time.sleep(1)\n",
    "    #return line,\n",
    "\n",
    "#Animation does not run live but all the data is collected first\n",
    "#animation.FuncAnimation(fig, animate, init_func=init,\n",
    "#                        frames=num_points, interval=30)  # so doing it num_points times"
   ]
  },
  {
   "cell_type": "markdown",
   "metadata": {},
   "source": [
    "## Now start the list of commands to align the rotator"
   ]
  },
  {
   "cell_type": "code",
   "execution_count": null,
   "metadata": {},
   "outputs": [],
   "source": [
    "# Test the DVD\n",
    "robot.disk_open()\n",
    "robot.rotator.to_bin('od')\n",
    "robot.move_toolhead_to(15)"
   ]
  },
  {
   "cell_type": "markdown",
   "metadata": {},
   "source": [
    "## Check Coarse alignment\n",
    "The toolhead should be above the CD drive. Put in a test CD to check alignment.\n",
    "**If the toolhead is not close (Just beside hole) then**:\n",
    "- Turn power off\n",
    "- Rotate head by hand \n",
    "- Power on *Drive will be closed*\n",
    "- Restart kernel and clear outputs\n",
    "- Restart this notebook"
   ]
  },
  {
   "cell_type": "markdown",
   "metadata": {},
   "source": [
    "## Fine tune alignement\n",
    "Adjust defaults in code (TODO store in device)\n",
    "- First align height so just above surface\n",
    "- Then find correct rotation angle\n",
    "- then save correct"
   ]
  },
  {
   "cell_type": "code",
   "execution_count": null,
   "metadata": {},
   "outputs": [],
   "source": [
    "# Fine tune head height by manual inspection.\n",
    "print(f'Current position = {robot.toolhead_z}, lower is higher')"
   ]
  },
  {
   "cell_type": "code",
   "execution_count": null,
   "metadata": {},
   "outputs": [],
   "source": [
    "robot.move_toolhead_to(15)"
   ]
  },
  {
   "cell_type": "code",
   "execution_count": null,
   "metadata": {},
   "outputs": [],
   "source": [
    "# Fine tune totation number\n",
    "print(f\"Current position = {robot.rotator.old_pos}, lower is counter clockwise, higher clockwise\")\n",
    "print(f\"Centre = {robot.rotator.bins['od'][0]}, offset load = , offset unload = \")"
   ]
  },
  {
   "cell_type": "code",
   "execution_count": null,
   "metadata": {},
   "outputs": [],
   "source": [
    "new_pos = 53.3  # Actual position regardless of offset\n",
    "robot.rotator.rotate_head_anti_hysteresis(new_pos, verbose=True)"
   ]
  },
  {
   "cell_type": "code",
   "execution_count": null,
   "metadata": {},
   "outputs": [],
   "source": [
    "#Now save calibration number\n",
    "calib = robot.calibration['bins']['od']\n",
    "calib[0] = new_pos - calib[2]  # Subtract out the offset\n",
    "robot.save_calibration()\n",
    "# Test\n",
    "robot.rotator.to_bin('od')"
   ]
  },
  {
   "cell_type": "markdown",
   "metadata": {},
   "source": [
    "# Calibrate speed/distance of toolhead by using DVD tray\n",
    "# *The rotation \n",
    "must be calibrated or it will self destruct*\n",
    "Need to make sure tray is open and has test OD.  This should be loaded by hand."
   ]
  },
  {
   "cell_type": "code",
   "execution_count": null,
   "metadata": {},
   "outputs": [],
   "source": [
    "robot.zero_toolhead()  # Make sure toolhead out of the way\n"
   ]
  },
  {
   "cell_type": "code",
   "execution_count": null,
   "metadata": {},
   "outputs": [],
   "source": [
    "# Test the DVD\n",
    "robot.disk_open()\n",
    "robot.rotator.to_bin('od')"
   ]
  },
  {
   "cell_type": "markdown",
   "metadata": {},
   "source": [
    "Make sure disk is in drive and aligned"
   ]
  },
  {
   "cell_type": "code",
   "execution_count": null,
   "metadata": {},
   "outputs": [],
   "source": [
    "robot.zero_toolhead()"
   ]
  },
  {
   "cell_type": "markdown",
   "metadata": {},
   "source": [
    "now going to lower tool head until it hits the disc and stops (hopefully) and timeit.\n",
    "Then time going up"
   ]
  },
  {
   "cell_type": "code",
   "execution_count": null,
   "metadata": {},
   "outputs": [],
   "source": [
    "cr1 = robot.measure_up_down(time_down=100)  # long down so hits end stop\n",
    "cr1"
   ]
  },
  {
   "cell_type": "code",
   "execution_count": null,
   "metadata": {},
   "outputs": [],
   "source": [
    "robot.move_toolhead_to(45)"
   ]
  },
  {
   "cell_type": "code",
   "execution_count": null,
   "metadata": {},
   "outputs": [],
   "source": [
    "# Calculate speed\n",
    "# Although a) saw a quick retraction\n",
    "# b) move_to speeds seem slow compared to up_down\n",
    "# When closed measure distance between exposed track of toolhead \n",
    "track_closed = 6.6  # mm\n",
    "track_open = 47.4  # mm\n",
    "track_calibration = track_open - track_closed  # mm\n",
    "print(f'Distance travelled from top to disc in Optical disc is {track_calibration} mm')\n",
    "speed_down =  track_calibration / cr1[0][1] #mm/s\n",
    "speed_up =  track_calibration / cr1[1][1] #mm/s\n",
    "average_speed  = (speed_down + speed_up) / 2\n",
    "print(f'Average speed = {average_speed:.2f}, down = {speed_down:.2f}, up = {speed_up:.2f} (in mm/s)')\n",
    "robot.calibration['toolhead_speed_up'] = speed_up\n",
    "robot.calibration['toolhead_speed_down'] = speed_down\n",
    "robot.save_calibration()"
   ]
  },
  {
   "cell_type": "markdown",
   "metadata": {},
   "source": [
    "## Test pickup and drop on Optical Drive\n",
    "Assuming disc in OD and open"
   ]
  },
  {
   "cell_type": "code",
   "execution_count": null,
   "metadata": {},
   "outputs": [],
   "source": [
    "# Check grip, release, park and shutdown work\n",
    "robot.grip()\n",
    "robot.release()\n",
    "robot.park()\n",
    "robot.shutdown()"
   ]
  },
  {
   "cell_type": "code",
   "execution_count": null,
   "metadata": {},
   "outputs": [],
   "source": [
    "robot.pickup_from_bin('od')\n",
    "# If this does not happen smoothly then a fine adjustment of set posisition could help"
   ]
  },
  {
   "cell_type": "code",
   "execution_count": null,
   "metadata": {},
   "outputs": [],
   "source": [
    "robot.drop_on_bin('od')\n",
    "# Disk should be centered in drive"
   ]
  },
  {
   "cell_type": "markdown",
   "metadata": {},
   "source": [
    "## Test pickup and drop on In Bin\n",
    "First test alignment\n",
    "Then check pickup and drop"
   ]
  },
  {
   "cell_type": "code",
   "execution_count": null,
   "metadata": {},
   "outputs": [],
   "source": [
    "robot.rotator.to_bin('in')\n",
    "robot.move_toolhead_to(10)"
   ]
  },
  {
   "cell_type": "code",
   "execution_count": null,
   "metadata": {},
   "outputs": [],
   "source": [
    "robot.pickup_from_bin('in')"
   ]
  },
  {
   "cell_type": "code",
   "execution_count": null,
   "metadata": {},
   "outputs": [],
   "source": [
    "robot.drop_on_bin('in')"
   ]
  },
  {
   "cell_type": "code",
   "execution_count": null,
   "metadata": {},
   "outputs": [],
   "source": []
  },
  {
   "cell_type": "markdown",
   "metadata": {},
   "source": [
    "## Test pickup and drop on Out Bin\n",
    "First test alignment\n",
    "Then check pickup and drop.  Make sure have disck in out bin"
   ]
  },
  {
   "cell_type": "code",
   "execution_count": null,
   "metadata": {},
   "outputs": [],
   "source": [
    "robot.rotator.to_bin('out')\n",
    "robot.move_toolhead_to(10)"
   ]
  },
  {
   "cell_type": "code",
   "execution_count": null,
   "metadata": {},
   "outputs": [],
   "source": [
    "media.disk_close()"
   ]
  },
  {
   "cell_type": "code",
   "execution_count": null,
   "metadata": {},
   "outputs": [],
   "source": [
    "media.disk_open()"
   ]
  },
  {
   "cell_type": "code",
   "execution_count": null,
   "metadata": {},
   "outputs": [],
   "source": [
    "# Get disc out of tray to out bin\n",
    "robot.pickup_from_bin('od')\n",
    "robot.drop_on_bin('out')"
   ]
  },
  {
   "cell_type": "code",
   "execution_count": null,
   "metadata": {},
   "outputs": [],
   "source": [
    "robot.pickup_from_bin('out')"
   ]
  },
  {
   "cell_type": "code",
   "execution_count": null,
   "metadata": {},
   "outputs": [],
   "source": [
    "robot.drop_on_bin('out')"
   ]
  },
  {
   "cell_type": "code",
   "execution_count": null,
   "metadata": {},
   "outputs": [],
   "source": [
    "robot.drop_on_out_bin()"
   ]
  },
  {
   "cell_type": "markdown",
   "metadata": {},
   "source": [
    "## Testing waste bin\n",
    "Make sure you have a test disk on the source.\n",
    "Remember with cannot pickup from waste"
   ]
  },
  {
   "cell_type": "code",
   "execution_count": null,
   "metadata": {},
   "outputs": [],
   "source": [
    "robot.pickup_from_bin('od')"
   ]
  },
  {
   "cell_type": "code",
   "execution_count": null,
   "metadata": {},
   "outputs": [],
   "source": [
    "robot.drop_on_bin('waste')"
   ]
  },
  {
   "cell_type": "markdown",
   "metadata": {},
   "source": [
    "## Test unloading from empty optical drive bin"
   ]
  },
  {
   "cell_type": "code",
   "execution_count": null,
   "metadata": {},
   "outputs": [],
   "source": [
    "robot.unload()"
   ]
  },
  {
   "cell_type": "code",
   "execution_count": null,
   "metadata": {},
   "outputs": [],
   "source": [
    "robot.load()"
   ]
  },
  {
   "cell_type": "code",
   "execution_count": 6,
   "metadata": {},
   "outputs": [
    {
     "data": {
      "text/plain": [
       "'Closing tray...\\r\\n'"
      ]
     },
     "execution_count": 6,
     "metadata": {},
     "output_type": "execute_result"
    }
   ],
   "source": [
    "robot.disk_close()"
   ]
  },
  {
   "cell_type": "markdown",
   "metadata": {},
   "source": [
    "# Blank unload  test\n",
    "The result was *Not safe*.  The toolhead went through the hole in the DVD drive and kept on going.  \n",
    "I suppose you can test by using the DVD drive to check that the drive has a disk loaded before unloading."
   ]
  },
  {
   "cell_type": "code",
   "execution_count": null,
   "metadata": {},
   "outputs": [],
   "source": [
    "robot.rotator.to_bin('od')"
   ]
  },
  {
   "cell_type": "code",
   "execution_count": null,
   "metadata": {},
   "outputs": [],
   "source": [
    "robot.robot(f'control1.z_axis.pwm_c()', verbose=True)"
   ]
  },
  {
   "cell_type": "code",
   "execution_count": 5,
   "metadata": {},
   "outputs": [
    {
     "name": "stdout",
     "output_type": "stream",
     "text": [
      "Robot>control1.th.release()\n",
      ">>> \n",
      "Robot>control1.z_axis.nudge(52.12104069199479,run_time=150)\n",
      "Shutdown Z Axis nudge\n",
      ">>> \n",
      "Robot>control1.th.grip()\n",
      ">>> \n",
      "Robot>control1.z_axis.nudge(52.12104069199479,run_time=40)\n",
      "Shutdown Z Axis nudge\n",
      ">>> \n",
      "Robot>control1.th.release()\n",
      ">>> \n"
     ]
    }
   ],
   "source": [
    "# check next disk blank\n",
    "robot.pickup_from_bin('in')\n",
    "robot.drop_on_bin('od')"
   ]
  },
  {
   "cell_type": "code",
   "execution_count": 8,
   "metadata": {},
   "outputs": [
    {
     "name": "stdout",
     "output_type": "stream",
     "text": [
      "Robot>control1.th.release()\n",
      ">>> \n",
      "Robot>control1.z_axis.nudge(52.12104069199479,run_time=70)\n",
      "Shutdown Z Axis nudge\n",
      ">>> \n",
      "Robot>control1.th.grip()\n",
      ">>> \n",
      "Robot>control1.z_axis.nudge(52.12104069199479,run_time=10)\n",
      "Shutdown Z Axis nudge\n",
      ">>> \n",
      "Robot>control1.th.release()\n",
      ">>> \n"
     ]
    }
   ],
   "source": [
    "# put blank disk back\n",
    "media.disk_open()\n",
    "robot.pickup_from_bin('od')\n",
    "robot.drop_on_bin('in')"
   ]
  },
  {
   "cell_type": "code",
   "execution_count": null,
   "metadata": {},
   "outputs": [],
   "source": []
  }
 ],
 "metadata": {
  "kernelspec": {
   "display_name": "Python 3",
   "language": "python",
   "name": "python3"
  },
  "language_info": {
   "codemirror_mode": {
    "name": "ipython",
    "version": 3
   },
   "file_extension": ".py",
   "mimetype": "text/x-python",
   "name": "python",
   "nbconvert_exporter": "python",
   "pygments_lexer": "ipython3",
   "version": "3.6.3"
  }
 },
 "nbformat": 4,
 "nbformat_minor": 2
}
