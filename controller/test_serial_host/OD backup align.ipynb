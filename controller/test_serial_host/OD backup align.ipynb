{
 "cells": [
  {
   "cell_type": "markdown",
   "metadata": {},
   "source": [
    "# OD Backup controller Align\n",
    "At some point the rotatation arm can get out of zero and will need to be adjusted.  This helps you do that process.\n",
    "\n",
    "\n",
    "To align (Servo version) follow the instruction in this notebook.\n",
    "\n",
    "- Test alignment\n",
    "- Make sure coarse alignment is ok\n",
    "- Fine tune\n",
    "- Test pickup and drop"
   ]
  },
  {
   "cell_type": "markdown",
   "metadata": {},
   "source": [
    "## Robot Control\n",
    "This imports the code."
   ]
  },
  {
   "cell_type": "code",
   "execution_count": 1,
   "metadata": {},
   "outputs": [],
   "source": [
    "import time\n",
    "\n",
    "import od_control\n",
    "import od_media"
   ]
  },
  {
   "cell_type": "markdown",
   "metadata": {},
   "source": [
    "## Now start the list of commands to align the rotator"
   ]
  },
  {
   "cell_type": "code",
   "execution_count": 2,
   "metadata": {},
   "outputs": [
    {
     "name": "stdout",
     "output_type": "stream",
     "text": [
      "54525964\n",
      "Found D drive all ok\n",
      "Robot>import control1\r\n",
      ">>> \n"
     ]
    }
   ],
   "source": [
    "# Turn on robot if not on (making sure the drive can safely retract)\n",
    "if od_media.drive_is_d():\n",
    "    print('Found D drive all ok')\n",
    "else:\n",
    "    raise od_media.ODMediaError(\"Didn't find D drive\")\n",
    "\n",
    "robot = od_control.ODRobot(od_media.open_dvd, od_media.close_dvd, com_port=\"COM6\")"
   ]
  },
  {
   "cell_type": "code",
   "execution_count": 3,
   "metadata": {},
   "outputs": [
    {
     "name": "stdout",
     "output_type": "stream",
     "text": [
      "Robot>control1.z_axis.nudge(44, run_time=200)\n",
      "Shutdown Z Axis nudge\n",
      ">>> \n",
      "Robot>control1.rotate.wait_set_position(50.5)\n",
      ">>> \n",
      "MoveToolhead: Initial find Zero\n",
      "Robot>control1.z_axis.nudge(44, run_time=200)\n",
      "Shutdown Z Axis nudge\n",
      ">>> \n",
      "MoveToolhead: moving to 30 from  0 by 30\n",
      "Robot>control1.z_axis.nudge(50, run_time=30)\n",
      "Shutdown Z Axis nudge\n",
      ">>> \n"
     ]
    }
   ],
   "source": [
    "# Test the DVD\n",
    "robot.zero_toolhead()\n",
    "robot.disk_open()\n",
    "robot.rotator.dvd()\n",
    "robot.move_toolhead_to(30)"
   ]
  },
  {
   "cell_type": "markdown",
   "metadata": {},
   "source": [
    "## Check Coarse alignment\n",
    "The toolhead should be above the CD drive. Put in a test CD to check alignment.\n",
    "**If the toolhead is not close (Just beside hole) then**:\n",
    "- Turn power off\n",
    "- Rotate head by hand \n",
    "- Power on *Drive will be closed*\n",
    "- Restart kernel and clear outputs\n",
    "- Restart this notebook"
   ]
  },
  {
   "cell_type": "markdown",
   "metadata": {},
   "source": [
    "## Fine tune alignement\n",
    "Adjust defaults in code (TODO store in device)"
   ]
  },
  {
   "cell_type": "markdown",
   "metadata": {},
   "source": [
    "## Test pickup and drop on DVD"
   ]
  },
  {
   "cell_type": "code",
   "execution_count": 4,
   "metadata": {},
   "outputs": [
    {
     "name": "stdout",
     "output_type": "stream",
     "text": [
      "Robot>control1.th.grip()\n",
      ">>> \n",
      "Robot>control1.th.release()\n",
      ">>> \n",
      "Robot>control1.th.park()\n",
      ">>> \n",
      "Robot>control1.th.shutdown()\n",
      ">>> \n"
     ]
    }
   ],
   "source": [
    "# Check grip, release, park and shutdown work\n",
    "robot.grip()\n",
    "robot.release()\n",
    "robot.park()\n",
    "robot.shutdown()"
   ]
  },
  {
   "cell_type": "code",
   "execution_count": 5,
   "metadata": {},
   "outputs": [
    {
     "name": "stdout",
     "output_type": "stream",
     "text": [
      "Robot>control1.rotate.wait_set_position(51.0)\n",
      ">>> \n",
      "Robot>control1.th.release()\n",
      ">>> \n",
      "Robot>control1.z_axis.nudge(50, run_time=120)\n",
      "Shutdown Z Axis nudge\n",
      ">>> \n",
      "Robot>control1.th.grip()\n",
      ">>> \n",
      "Robot>control1.z_axis.nudge(44, run_time=200)\n",
      "Shutdown Z Axis nudge\n",
      ">>> \n",
      "Robot>control1.z_axis.shutdown()\n",
      ">>> \n"
     ]
    }
   ],
   "source": [
    "robot.pickup_from_dvd_drive()\n",
    "# If this does not happen smoothly then a fine adjustment of set posisition could help"
   ]
  },
  {
   "cell_type": "code",
   "execution_count": 6,
   "metadata": {},
   "outputs": [
    {
     "name": "stdout",
     "output_type": "stream",
     "text": [
      "Robot>control1.rotate.wait_set_position(50.3)\n",
      ">>> \n",
      "Robot>control1.z_axis.nudge(50, run_time=40)\n",
      "Shutdown Z Axis nudge\n",
      ">>> \n",
      "Robot>control1.th.release()\n",
      ">>> \n",
      "Robot>control1.th.park()\n",
      ">>> \n",
      "Robot>control1.th.shutdown()\n",
      ">>> \n",
      "Robot>control1.z_axis.nudge(44, run_time=200)\n",
      "Shutdown Z Axis nudge\n",
      ">>> \n",
      "Robot>control1.z_axis.shutdown()\n",
      ">>> \n"
     ]
    }
   ],
   "source": [
    "robot.drop_on_dvd_drive()\n",
    "# Disk should be centered in drive"
   ]
  },
  {
   "cell_type": "markdown",
   "metadata": {},
   "source": [
    "## Test pickup and drop on In Bin\n",
    "First test alignment\n",
    "Then check pickup and drop"
   ]
  },
  {
   "cell_type": "code",
   "execution_count": 7,
   "metadata": {},
   "outputs": [
    {
     "name": "stdout",
     "output_type": "stream",
     "text": [
      "Robot>control1.rotate.wait_set_position(86)\r\n",
      ">>> \n"
     ]
    }
   ],
   "source": [
    "robot.rotator.in_bin()"
   ]
  },
  {
   "cell_type": "code",
   "execution_count": 8,
   "metadata": {},
   "outputs": [
    {
     "name": "stdout",
     "output_type": "stream",
     "text": [
      "Robot>control1.th.release()\n",
      ">>> \n",
      "Robot>control1.z_axis.nudge(50, run_time=150)\n",
      "Shutdown Z Axis nudge\n",
      ">>> \n",
      "Robot>control1.th.grip()\n",
      ">>> \n",
      "Robot>control1.z_axis.nudge(44, run_time=200)\n",
      "Shutdown Z Axis nudge\n",
      ">>> \n",
      "Robot>control1.z_axis.shutdown()\n",
      ">>> \n"
     ]
    }
   ],
   "source": [
    "robot.pickup_from_in_bin()"
   ]
  },
  {
   "cell_type": "code",
   "execution_count": 9,
   "metadata": {},
   "outputs": [
    {
     "name": "stdout",
     "output_type": "stream",
     "text": [
      "Robot>control1.z_axis.nudge(50, run_time=10)\n",
      "Shutdown Z Axis nudge\n",
      ">>> \n",
      "Robot>control1.th.release()\n",
      ">>> \n",
      "Robot>control1.th.park()\n",
      ">>> \n",
      "Robot>control1.th.shutdown()\n",
      ">>> \n",
      "Robot>control1.z_axis.nudge(44, run_time=200)\n",
      "Shutdown Z Axis nudge\n",
      ">>> \n",
      "Robot>control1.z_axis.shutdown()\n",
      ">>> \n"
     ]
    }
   ],
   "source": [
    "robot.drop_on_in_bin()"
   ]
  },
  {
   "cell_type": "markdown",
   "metadata": {},
   "source": [
    "## Test pickup and drop on Out Bin\n",
    "First test alignment\n",
    "Then check pickup and drop"
   ]
  },
  {
   "cell_type": "code",
   "execution_count": 10,
   "metadata": {},
   "outputs": [
    {
     "name": "stdout",
     "output_type": "stream",
     "text": [
      "Robot>control1.rotate.wait_set_position(14)\r\n",
      ">>> \n"
     ]
    }
   ],
   "source": [
    "robot.rotator.out_bin()"
   ]
  },
  {
   "cell_type": "code",
   "execution_count": 11,
   "metadata": {},
   "outputs": [
    {
     "name": "stdout",
     "output_type": "stream",
     "text": [
      "Robot>control1.th.release()\n",
      ">>> \n",
      "Robot>control1.z_axis.nudge(50, run_time=150)\n",
      "Shutdown Z Axis nudge\n",
      ">>> \n",
      "Robot>control1.th.grip()\n",
      ">>> \n",
      "Robot>control1.z_axis.nudge(44, run_time=200)\n",
      "Shutdown Z Axis nudge\n",
      ">>> \n",
      "Robot>control1.z_axis.shutdown()\n",
      ">>> \n"
     ]
    }
   ],
   "source": [
    "robot.pickup_from_out_bin()"
   ]
  },
  {
   "cell_type": "code",
   "execution_count": 12,
   "metadata": {},
   "outputs": [
    {
     "name": "stdout",
     "output_type": "stream",
     "text": [
      "Robot>control1.z_axis.nudge(50, run_time=20)\n",
      "Shutdown Z Axis nudge\n",
      ">>> \n",
      "Robot>control1.th.release()\n",
      ">>> \n",
      "Robot>control1.th.park()\n",
      ">>> \n",
      "Robot>control1.th.shutdown()\n",
      ">>> \n"
     ]
    }
   ],
   "source": [
    "robot.drop_on_out_bin()"
   ]
  },
  {
   "cell_type": "code",
   "execution_count": 13,
   "metadata": {},
   "outputs": [],
   "source": [
    "# Test unloading from empty optical drive bin"
   ]
  },
  {
   "cell_type": "code",
   "execution_count": 14,
   "metadata": {},
   "outputs": [
    {
     "name": "stdout",
     "output_type": "stream",
     "text": [
      "Robot>control1.th.park()\n",
      ">>> \n",
      "Robot>control1.th.shutdown()\n",
      ">>> \n",
      "Robot>control1.z_axis.nudge(44, run_time=200)\n",
      "Shutdown Z Axis nudge\n",
      ">>> \n",
      "Robot>control1.z_axis.shutdown()\n",
      ">>> \n",
      "Robot>control1.rotate.wait_set_position(51.0)\n",
      ">>> \n",
      "Robot>control1.th.release()\n",
      ">>> \n",
      "Robot>control1.z_axis.nudge(50, run_time=120)\n",
      "Shutdown Z Axis nudge\n",
      ">>> \n",
      "Robot>control1.th.grip()\n",
      ">>> \n",
      "Robot>control1.z_axis.nudge(44, run_time=200)\n",
      "Shutdown Z Axis nudge\n",
      ">>> \n",
      "Robot>control1.z_axis.shutdown()\n",
      ">>> \n",
      "Robot>control1.rotate.wait_set_position(14)\n",
      ">>> \n",
      "Robot>control1.z_axis.nudge(50, run_time=20)\n",
      "Shutdown Z Axis nudge\n",
      ">>> \n",
      "Robot>control1.th.release()\n",
      ">>> \n",
      "Robot>control1.th.park()\n",
      ">>> \n",
      "Robot>control1.th.shutdown()\n",
      ">>> \n",
      "Robot>control1.th.park()\n",
      ">>> \n",
      "Robot>control1.th.shutdown()\n",
      ">>> \n",
      "Robot>control1.z_axis.nudge(44, run_time=200)\n",
      "Shutdown Z Axis nudge\n",
      ">>> \n",
      "Robot>control1.z_axis.shutdown()\n",
      ">>> \n"
     ]
    }
   ],
   "source": [
    "robot.unload()"
   ]
  },
  {
   "cell_type": "code",
   "execution_count": 15,
   "metadata": {},
   "outputs": [
    {
     "name": "stdout",
     "output_type": "stream",
     "text": [
      "Robot>control1.th.park()\n",
      ">>> \n",
      "Robot>control1.th.shutdown()\n",
      ">>> \n",
      "Robot>control1.z_axis.nudge(44, run_time=200)\n",
      "Shutdown Z Axis nudge\n",
      ">>> \n",
      "Robot>control1.z_axis.shutdown()\n",
      ">>> \n",
      "Robot>control1.rotate.wait_set_position(51.0)\n",
      ">>> \n",
      "Robot>control1.th.release()\n",
      ">>> \n",
      "Robot>control1.z_axis.nudge(50, run_time=120)\n",
      "Shutdown Z Axis nudge\n",
      ">>> \n",
      "Robot>control1.th.grip()\n",
      ">>> \n",
      "Robot>control1.z_axis.nudge(44, run_time=200)\n",
      "Shutdown Z Axis nudge\n",
      ">>> \n",
      "Robot>control1.z_axis.shutdown()\n",
      ">>> \n",
      "Robot>control1.rotate.wait_set_position(14)\n",
      ">>> \n",
      "Robot>control1.z_axis.nudge(50, run_time=20)\n",
      "Shutdown Z Axis nudge\n",
      ">>> \n",
      "Robot>control1.th.release()\n",
      ">>> \n",
      "Robot>control1.th.park()\n",
      ">>> \n",
      "Robot>control1.th.shutdown()\n",
      ">>> \n",
      "Robot>control1.th.park()\n",
      ">>> \n",
      "Robot>control1.th.shutdown()\n",
      ">>> \n",
      "Robot>control1.z_axis.nudge(44, run_time=200)\n",
      "Shutdown Z Axis nudge\n",
      ">>> \n",
      "Robot>control1.z_axis.shutdown()\n",
      ">>> \n"
     ]
    }
   ],
   "source": [
    "robot.unload()"
   ]
  },
  {
   "cell_type": "markdown",
   "metadata": {},
   "source": [
    "# Blank unload  test\n",
    "The result was *Not safe*.  The toolhead went through the hole in the DVD drive and kept on going.  \n",
    "I suppose you can test by using the DVD drive to check that the drive has a disk loaded before unloading."
   ]
  }
 ],
 "metadata": {
  "kernelspec": {
   "display_name": "Python 3",
   "language": "python",
   "name": "python3"
  },
  "language_info": {
   "codemirror_mode": {
    "name": "ipython",
    "version": 3
   },
   "file_extension": ".py",
   "mimetype": "text/x-python",
   "name": "python",
   "nbconvert_exporter": "python",
   "pygments_lexer": "ipython3",
   "version": "3.6.3"
  }
 },
 "nbformat": 4,
 "nbformat_minor": 2
}
