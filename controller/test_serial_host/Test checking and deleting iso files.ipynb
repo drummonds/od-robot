{
 "cells": [
  {
   "cell_type": "markdown",
   "metadata": {},
   "source": [
    "# Large backups and transient isos\n",
    "When doing a large backup I will not have enough space to store all the iso image files.  So after each one has been created I will need to destroy it.  This is the code to test that."
   ]
  },
  {
   "cell_type": "code",
   "execution_count": 5,
   "metadata": {},
   "outputs": [],
   "source": [
    "import os"
   ]
  },
  {
   "cell_type": "code",
   "execution_count": 6,
   "metadata": {},
   "outputs": [
    {
     "name": "stdout",
     "output_type": "stream",
     "text": [
      "File new_0000.iso exists\n",
      "File new_0001.iso exists\n"
     ]
    }
   ],
   "source": [
    "for n in range(2):\n",
    "    filename = f\"new_{n:04}.iso\"\n",
    "    if os.path.isfile(filename):\n",
    "        print(f'File {filename} exists')\n",
    "        os.remove(filename)\n",
    "    else:\n",
    "        print(f'--- File {filename} missing')"
   ]
  },
  {
   "cell_type": "code",
   "execution_count": null,
   "metadata": {},
   "outputs": [],
   "source": []
  }
 ],
 "metadata": {
  "kernelspec": {
   "display_name": "Python 3",
   "language": "python",
   "name": "python3"
  },
  "language_info": {
   "codemirror_mode": {
    "name": "ipython",
    "version": 3
   },
   "file_extension": ".py",
   "mimetype": "text/x-python",
   "name": "python",
   "nbconvert_exporter": "python",
   "pygments_lexer": "ipython3",
   "version": "3.6.3"
  }
 },
 "nbformat": 4,
 "nbformat_minor": 2
}
