{
 "cells": [
  {
   "cell_type": "markdown",
   "metadata": {},
   "source": [
    "# Using NeroCmd to talk to Optical Drive\n",
    "Installed the Burning Rom (trial)"
   ]
  },
  {
   "cell_type": "code",
   "execution_count": 6,
   "metadata": {},
   "outputs": [
    {
     "name": "stdout",
     "output_type": "stream",
     "text": [
      "\n",
      "CD-R, writeable, 359847 blocks free, not finalized\n",
      "\n",
      "Layer 0 max blocks: 0\n",
      "Total capacity:     359847\n",
      "Book type:          unknown\n",
      "\n",
      "Track info:\n",
      "Ok.\n",
      "\n"
     ]
    },
    {
     "data": {
      "text/plain": [
       "'\\rOk.\\r\\n'"
      ]
     },
     "execution_count": 6,
     "metadata": {},
     "output_type": "execute_result"
    }
   ],
   "source": [
    "import subprocess\n",
    "\n",
    "\n",
    "class ODMedia:\n",
    "    def __init__(self):\n",
    "        self.path_root = r\"C:\\Program Files (x86)\\Nero\\Nero 2019\\Nero Burning ROM\\nerocmd.exe\"\n",
    "    \n",
    "    def version(self):\n",
    "        result = subprocess.run([self.path_root, \"--version\"], stdout=subprocess.PIPE)\n",
    "        return result.stdout.decode('utf-8')\n",
    "\n",
    "    def drive_type(self):\n",
    "        # TODO Not working as returns '' but from commmandline works\n",
    "        result = subprocess.run([self.path_root, \"--driveinfo\", \"--drivename\", \"d:\"], stdout=subprocess.PIPE)\n",
    "        return result.stdout.decode('utf-8')\n",
    "\n",
    "    def disk_open(self):\n",
    "        result = subprocess.run([self.path_root, \"--eject\", \"--drivename\", \"d:\"], stdout=subprocess.PIPE)\n",
    "        return result.stdout.decode('utf-8')\n",
    "\n",
    "    def disk_close(self):\n",
    "        result = subprocess.run([self.path_root, \"--load\", \"--drivename\", \"d:\"], stdout=subprocess.PIPE)\n",
    "        return result.stdout.decode('utf-8')\n",
    "\n",
    "    def disk_type(self):\n",
    "        result = subprocess.run([self.path_root, \"--discinfo\", \"--drivename\", \"d:\"], stdout=subprocess.PIPE)\n",
    "        return result.stdout.decode('utf-8')\n",
    "\n",
    "media = ODMedia()\n",
    "print(media.drive_type())\n",
    "print(media.disk_type())\n",
    "media.disk_open()\n",
    "media.disk_close()"
   ]
  },
  {
   "cell_type": "code",
   "execution_count": null,
   "metadata": {},
   "outputs": [],
   "source": [
    "class ODInfoError(Exception):\n",
    "    pass\n",
    "\n",
    "class ODInfo:\n",
    "    \"\"\"Gives you information about the disk loaded into the drive\"\"\"\n",
    "    def __init__(self):\n",
    "        c = wmi.WMI()\n",
    "        self.num_optical_drives = len(c.Win32_CDROMDrive())\n",
    "        assert self.num_optical_drives == 1, ODInfoError(\n",
    "            f'Assume 1 and only 1 drive but have {self.num_optical_drives}')\n",
    "        self.cdrom = c.Win32_CDROMDrive()[0]\n",
    "        print('Media loaded', self.media_loaded)\n",
    "        #print(cdrom)\n",
    "        #print(cdrom.__dict__)\n",
    "\n",
    "        for disk in c.Win32_LogicalDisk():\n",
    "            # Drive Type  from https://blogs.technet.microsoft.com/heyscriptingguy/2014/09/10/inventory-drive-types-by-using-powershell/\n",
    "            #  2 = \"Removable disk\"\n",
    "            #  3=\"Fixed local disk\"\n",
    "            #  4=\"Network disk\"\n",
    "            #  5 = \"Compact disk\n",
    "            if int(disk.DriveType) == 5:  # Found the 1 Optical drive\n",
    "                self.device_id = disk.DeviceID  # Blank\n",
    "                self.file_system = disk.FileSystem\n",
    "                self.free_space = disk.FreeSpace\n",
    "                self.size = disk.Size\n",
    "        #        print(disk)\n",
    "\n",
    "    @property\n",
    "    def media_loaded(self):\n",
    "        return self.cdrom.MediaLoaded\n",
    "        \n",
    "    @property\n",
    "    def blank_media(self):\n",
    "        return self.file_system is None\n",
    "        \n",
    "    def __str__(self):\n",
    "        result = self.cdrom.manufacturer + '\\n'\n",
    "        result += f'Blank Media = {self.blank_media}\\n'\n",
    "        if self.media_loaded:\n",
    "            result += 'Media loaded\\n'\n",
    "            result += f'Device ID = {self.device_id}\\n'\n",
    "            result += f'File system = {self.file_system}\\n'\n",
    "            result += f'Free Space = {self.free_space}\\n'\n",
    "            result += f'Size = {self.size}\\n'\n",
    "        else:\n",
    "            result += 'No media loaded\\n'\n",
    "        return result\n",
    "\n",
    "        #for disk in c.Win32_DiskDrive():\n",
    "        #    print(disk)\n",
    "\n",
    "\n",
    "        #for media in c.Win32_PhysicalMedia():\n",
    "        #    if media.tag.find(\"CDROM\") >= 0:\n",
    "        #        print(media)\n",
    "        #        if media.Manufacturer != None:\n",
    "        #            print(\"Manufacturer:\" + media.Manufacturer)\n",
    "\n",
    "a = ODInfo()\n",
    "print(a)\n"
   ]
  },
  {
   "cell_type": "code",
   "execution_count": 7,
   "metadata": {},
   "outputs": [
    {
     "data": {
      "text/plain": [
       "''"
      ]
     },
     "execution_count": 7,
     "metadata": {},
     "output_type": "execute_result"
    }
   ],
   "source": [
    "media.drive_type()"
   ]
  },
  {
   "cell_type": "code",
   "execution_count": 2,
   "metadata": {},
   "outputs": [],
   "source": [
    "\n"
   ]
  },
  {
   "cell_type": "code",
   "execution_count": 3,
   "metadata": {},
   "outputs": [],
   "source": []
  },
  {
   "cell_type": "code",
   "execution_count": null,
   "metadata": {},
   "outputs": [],
   "source": []
  }
 ],
 "metadata": {
  "kernelspec": {
   "display_name": "Python 3",
   "language": "python",
   "name": "python3"
  },
  "language_info": {
   "codemirror_mode": {
    "name": "ipython",
    "version": 3
   },
   "file_extension": ".py",
   "mimetype": "text/x-python",
   "name": "python",
   "nbconvert_exporter": "python",
   "pygments_lexer": "ipython3",
   "version": "3.6.3"
  }
 },
 "nbformat": 4,
 "nbformat_minor": 2
}
