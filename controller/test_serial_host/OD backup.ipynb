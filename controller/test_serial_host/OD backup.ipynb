{
 "cells": [
  {
   "cell_type": "markdown",
   "metadata": {},
   "source": [
    "# OD Backup controller\n",
    "This should develop into the controller run a backup automatically.\n",
    "\n",
    "- Aim read drive and convert to a stack of disks eg DVD\n",
    "- Want to verify quality"
   ]
  },
  {
   "cell_type": "markdown",
   "metadata": {},
   "source": [
    "## Robot controller"
   ]
  },
  {
   "cell_type": "code",
   "execution_count": 1,
   "metadata": {},
   "outputs": [
    {
     "name": "stdout",
     "output_type": "stream",
     "text": [
      "54525964\n",
      "Found D drive all ok\n",
      "Robot>import control1\r\n",
      ">>> \n"
     ]
    }
   ],
   "source": [
    "import time\n",
    "\n",
    "import od_control\n",
    "import od_media\n",
    "\n",
    "# Turn on robot if not on (making sure the drive can safely retract)\n",
    "if od_media.drive_is_d():\n",
    "    print('Found D drive all ok')\n",
    "else:\n",
    "    raise od_media.ODMediaError(\"Didn't find D drive\")\n",
    "\n",
    "robot = od_control.ODRobot(od_media.open_dvd, od_media.close_dvd, com_port=\"COM6\")"
   ]
  },
  {
   "cell_type": "markdown",
   "metadata": {},
   "source": [
    "## DVD  control and burning"
   ]
  },
  {
   "cell_type": "code",
   "execution_count": 7,
   "metadata": {},
   "outputs": [
    {
     "name": "stdout",
     "output_type": "stream",
     "text": [
      "Number of drives = 1\n",
      "Disk Loaded\n",
      "Blank disk\n",
      "Size = ???\n",
      "\n"
     ]
    }
   ],
   "source": [
    "import pygame\n",
    "\n",
    "class ODStatus:\n",
    "    \"\"\"Reads the status of the optical disk in the drive.\n",
    "    Initialisation reads all the state information and then you can use the data as necessary\"\"\"\n",
    "    def __init__(self):\n",
    "        pygame.cdrom.init()\n",
    "        self.number_of_drives = pygame.cdrom.get_count()\n",
    "        # Characterize disk\n",
    "        # Open the drive\n",
    "        drive = pygame.cdrom.CD(0)\n",
    "        drive.init()\n",
    "        self.disk_loaded = not drive.get_empty()\n",
    "        if self.disk_loaded:\n",
    "            try:\n",
    "                is_audio = drive.get_track_audio(0)\n",
    "                self.disk_is_blank = False\n",
    "                self.readme = self._readme()\n",
    "            except IndexError:\n",
    "                self.disk_is_blank = True\n",
    "        drive.quit()  # Release pygames hold over Optical drive\n",
    "\n",
    "    def __str__(self):\n",
    "        result = f\"Number of drives = {self.number_of_drives}\\n\"\n",
    "        if self.disk_loaded:\n",
    "            result += f\"Disk Loaded\\n\"\n",
    "            if self.disk_is_blank:\n",
    "                result += f\"Blank disk\\n\"\n",
    "                result += f\"Size = ???\\n\"\n",
    "            else:\n",
    "                result += f\"{self.readme}\\n\"\n",
    "        else:\n",
    "            result += f\"No Disk Loaded\\n\"\n",
    "        return result\n",
    "\n",
    "    def _readme(self):\n",
    "        # Assume disk loaded\n",
    "        # look for readme.markdown and then print\n",
    "        with open(\"d:/readme.markdown\",\"r\") as f:\n",
    "            content = f.readlines()\n",
    "        return content\n",
    "\n",
    "\n",
    "a = ODStatus()\n",
    "print(a)\n"
   ]
  },
  {
   "cell_type": "code",
   "execution_count": 3,
   "metadata": {},
   "outputs": [
    {
     "name": "stdout",
     "output_type": "stream",
     "text": [
      "Robot>control1.th.release()\n",
      ">>> \n",
      "Robot>control1.z_axis.nudge(50, run_time=150)\n",
      "Shutdown Z Axis nudge\n",
      ">>> \n",
      "Robot>control1.th.grip()\n",
      ">>> \n",
      "Robot>control1.z_axis.nudge(50, run_time=40)\n",
      "Shutdown Z Axis nudge\n",
      ">>> \n",
      "Robot>control1.th.release()\n",
      ">>> \n"
     ]
    }
   ],
   "source": [
    "robot.load()"
   ]
  },
  {
   "cell_type": "code",
   "execution_count": 5,
   "metadata": {},
   "outputs": [
    {
     "ename": "IndexError",
     "evalue": "Invalid track number",
     "output_type": "error",
     "traceback": [
      "\u001b[1;31m---------------------------------------------------------------------------\u001b[0m",
      "\u001b[1;31mIndexError\u001b[0m                                Traceback (most recent call last)",
      "\u001b[1;32m<ipython-input-5-27b507b12009>\u001b[0m in \u001b[0;36m<module>\u001b[1;34m()\u001b[0m\n\u001b[1;32m----> 1\u001b[1;33m \u001b[0ma\u001b[0m \u001b[1;33m=\u001b[0m \u001b[0mODStatus\u001b[0m\u001b[1;33m(\u001b[0m\u001b[1;33m)\u001b[0m\u001b[1;33m\u001b[0m\u001b[0m\n\u001b[0m\u001b[0;32m      2\u001b[0m \u001b[0mprint\u001b[0m\u001b[1;33m(\u001b[0m\u001b[0ma\u001b[0m\u001b[1;33m)\u001b[0m\u001b[1;33m\u001b[0m\u001b[0m\n",
      "\u001b[1;32m<ipython-input-2-6c43e63df5f4>\u001b[0m in \u001b[0;36m__init__\u001b[1;34m(self)\u001b[0m\n\u001b[0;32m     13\u001b[0m         \u001b[0mself\u001b[0m\u001b[1;33m.\u001b[0m\u001b[0mdisk_loaded\u001b[0m \u001b[1;33m=\u001b[0m \u001b[1;32mnot\u001b[0m \u001b[0mdrive\u001b[0m\u001b[1;33m.\u001b[0m\u001b[0mget_empty\u001b[0m\u001b[1;33m(\u001b[0m\u001b[1;33m)\u001b[0m\u001b[1;33m\u001b[0m\u001b[0m\n\u001b[0;32m     14\u001b[0m         \u001b[1;32mif\u001b[0m \u001b[0mself\u001b[0m\u001b[1;33m.\u001b[0m\u001b[0mdisk_loaded\u001b[0m\u001b[1;33m:\u001b[0m\u001b[1;33m\u001b[0m\u001b[0m\n\u001b[1;32m---> 15\u001b[1;33m             \u001b[0mis_audio\u001b[0m \u001b[1;33m=\u001b[0m \u001b[0mdrive\u001b[0m\u001b[1;33m.\u001b[0m\u001b[0mget_track_audio\u001b[0m\u001b[1;33m(\u001b[0m\u001b[1;36m0\u001b[0m\u001b[1;33m)\u001b[0m\u001b[1;33m\u001b[0m\u001b[0m\n\u001b[0m\u001b[0;32m     16\u001b[0m             \u001b[1;32mif\u001b[0m \u001b[0mis_disk\u001b[0m\u001b[1;33m:\u001b[0m\u001b[1;33m\u001b[0m\u001b[0m\n\u001b[0;32m     17\u001b[0m                 \u001b[0mprint\u001b[0m\u001b[1;33m(\u001b[0m\u001b[1;34m\"Disk is CD (maybe not audio)\"\u001b[0m\u001b[1;33m)\u001b[0m\u001b[1;33m\u001b[0m\u001b[0m\n",
      "\u001b[1;31mIndexError\u001b[0m: Invalid track number"
     ]
    }
   ],
   "source": [
    "a = ODStatus()\n",
    "print(a)"
   ]
  },
  {
   "cell_type": "code",
   "execution_count": null,
   "metadata": {},
   "outputs": [],
   "source": [
    "# Open the drive\n",
    "#drive = pygame.cdrom.CD(0)\n",
    "#drive.init()\n",
    "#drive.eject()  # Worked!"
   ]
  },
  {
   "cell_type": "code",
   "execution_count": null,
   "metadata": {},
   "outputs": [],
   "source": [
    "# close drive\n",
    "drive.quit()  # Need to get pygame to let go of drive and then use the close command to shut it\n",
    "close_dvd()"
   ]
  },
  {
   "cell_type": "code",
   "execution_count": null,
   "metadata": {},
   "outputs": [],
   "source": [
    "def print_readme():\n",
    "    # Assume disk loaded\n",
    "    # look for readme.markdown and then print\n",
    "    print(\"Testing disk read me\")\n",
    "    with open(\"d:/readme.markdown\",\"r\") as f:\n",
    "        content = f.readlines()\n",
    "        for line in content:\n",
    "            print(line)\n",
    "    \n",
    "\n"
   ]
  },
  {
   "cell_type": "markdown",
   "metadata": {},
   "source": [
    "## Auto control"
   ]
  },
  {
   "cell_type": "code",
   "execution_count": null,
   "metadata": {},
   "outputs": [],
   "source": [
    "# Characterize disk\n",
    "drive.init()\n",
    "is_disk = not drive.get_empty()\n",
    "if is_disk:\n",
    "    print(\"Disk loaded\")\n",
    "    try:\n",
    "        is_audio = drive.get_track_audio(0)\n",
    "        if is_disk:\n",
    "            print(\"Disk is CD (maybe not audio)\")\n",
    "            print_readme()\n",
    "        else:\n",
    "            print(\"Disk is not CD\")\n",
    "    except IndexError:  # eg Invalid track number as disk is blank\n",
    "        # Dont' yet know what type of disk it is\n",
    "        print(\"Unknown blank disk\")\n",
    "else:\n",
    "    print(\"No disk loaded\")\n"
   ]
  },
  {
   "cell_type": "code",
   "execution_count": 10,
   "metadata": {},
   "outputs": [
    {
     "name": "stdout",
     "output_type": "stream",
     "text": [
      "Robot>control1.th.release()\n",
      ">>> \n",
      "Robot>control1.z_axis.nudge(50, run_time=120)\n",
      "Shutdown Z Axis nudge\n",
      ">>> \n",
      "Robot>control1.th.grip()\n",
      ">>> \n",
      "Robot>control1.z_axis.nudge(50, run_time=20)\n",
      "Shutdown Z Axis nudge\n",
      ">>> \n",
      "Robot>control1.th.release()\n",
      ">>> \n",
      "Robot>control1.th.park()\n",
      ">>> \n",
      "Robot>control1.th.shutdown()\n",
      ">>> \n"
     ]
    }
   ],
   "source": [
    "robot.unload()"
   ]
  },
  {
   "cell_type": "code",
   "execution_count": null,
   "metadata": {},
   "outputs": [],
   "source": [
    "drive.quit()\n",
    "robot.disk_close()"
   ]
  },
  {
   "cell_type": "code",
   "execution_count": 11,
   "metadata": {},
   "outputs": [
    {
     "name": "stdout",
     "output_type": "stream",
     "text": [
      "Robot>control1.th.release()\n",
      ">>> \n",
      "Robot>control1.z_axis.nudge(50, run_time=150)\n",
      "Shutdown Z Axis nudge\n",
      ">>> \n",
      "Robot>control1.th.grip()\n",
      ">>> \n",
      "Robot>control1.z_axis.nudge(50, run_time=40)\n",
      "Shutdown Z Axis nudge\n",
      ">>> \n",
      "Robot>control1.th.release()\n",
      ">>> \n"
     ]
    }
   ],
   "source": [
    "# drive.quit()\n",
    "robot.load()"
   ]
  },
  {
   "cell_type": "code",
   "execution_count": null,
   "metadata": {},
   "outputs": [],
   "source": [
    "drive.quit()\n",
    "robot.load()"
   ]
  },
  {
   "cell_type": "code",
   "execution_count": null,
   "metadata": {},
   "outputs": [],
   "source": [
    "robot.disk_open()\n",
    "robot.rotate(51)"
   ]
  },
  {
   "cell_type": "code",
   "execution_count": null,
   "metadata": {},
   "outputs": [],
   "source": [
    "robot.state()"
   ]
  },
  {
   "cell_type": "code",
   "execution_count": null,
   "metadata": {},
   "outputs": [],
   "source": [
    "robot.shutdown()\n",
    "robot.state()"
   ]
  },
  {
   "cell_type": "code",
   "execution_count": null,
   "metadata": {},
   "outputs": [],
   "source": [
    "robot.zero_toolhead()"
   ]
  },
  {
   "cell_type": "code",
   "execution_count": null,
   "metadata": {},
   "outputs": [],
   "source": [
    "robot.rotate(60)"
   ]
  },
  {
   "cell_type": "code",
   "execution_count": null,
   "metadata": {},
   "outputs": [],
   "source": [
    "robot.disk_open()"
   ]
  },
  {
   "cell_type": "code",
   "execution_count": null,
   "metadata": {},
   "outputs": [],
   "source": [
    "robot.rotate(50.5)"
   ]
  },
  {
   "cell_type": "code",
   "execution_count": null,
   "metadata": {},
   "outputs": [],
   "source": [
    "robot.robot('control1.z_axis.nudge(44, run_time=40)')  # Move nearer bin"
   ]
  },
  {
   "cell_type": "code",
   "execution_count": null,
   "metadata": {},
   "outputs": [],
   "source": [
    "robot.release()"
   ]
  },
  {
   "cell_type": "code",
   "execution_count": null,
   "metadata": {},
   "outputs": [],
   "source": [
    "robot.park()\n",
    "robot.shutdown()"
   ]
  },
  {
   "cell_type": "code",
   "execution_count": null,
   "metadata": {},
   "outputs": [],
   "source": [
    "robot.status()"
   ]
  },
  {
   "cell_type": "code",
   "execution_count": null,
   "metadata": {},
   "outputs": [],
   "source": [
    "robot.robot('control1.z_axis.state()')  # Find state"
   ]
  },
  {
   "cell_type": "code",
   "execution_count": null,
   "metadata": {},
   "outputs": [],
   "source": [
    "robot.z_axis_state()"
   ]
  },
  {
   "cell_type": "code",
   "execution_count": null,
   "metadata": {},
   "outputs": [],
   "source": [
    "a = 'control1.z_axis.state()\\r\\n2\\r\\n>>> '"
   ]
  },
  {
   "cell_type": "code",
   "execution_count": null,
   "metadata": {},
   "outputs": [],
   "source": [
    "b = a.split('\\n')"
   ]
  },
  {
   "cell_type": "code",
   "execution_count": null,
   "metadata": {},
   "outputs": [],
   "source": [
    "int(b[1])"
   ]
  },
  {
   "cell_type": "code",
   "execution_count": null,
   "metadata": {},
   "outputs": [],
   "source": [
    "open_dvd()"
   ]
  },
  {
   "cell_type": "code",
   "execution_count": null,
   "metadata": {},
   "outputs": [],
   "source": []
  }
 ],
 "metadata": {
  "kernelspec": {
   "display_name": "Python 3",
   "language": "python",
   "name": "python3"
  },
  "language_info": {
   "codemirror_mode": {
    "name": "ipython",
    "version": 3
   },
   "file_extension": ".py",
   "mimetype": "text/x-python",
   "name": "python",
   "nbconvert_exporter": "python",
   "pygments_lexer": "ipython3",
   "version": "3.6.3"
  }
 },
 "nbformat": 4,
 "nbformat_minor": 2
}
