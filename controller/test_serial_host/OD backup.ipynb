{
 "cells": [
  {
   "cell_type": "markdown",
   "metadata": {},
   "source": [
    "# OD Backup controller\n",
    "This should develop into the controller run a backup automatically.\n",
    "\n",
    "- Aim read drive and convert to a stack of disks eg DVD\n",
    "- Want to verify quality"
   ]
  },
  {
   "cell_type": "markdown",
   "metadata": {},
   "source": [
    "## DVD Control"
   ]
  },
  {
   "cell_type": "code",
   "execution_count": 1,
   "metadata": {},
   "outputs": [
    {
     "name": "stdout",
     "output_type": "stream",
     "text": [
      "54525964\n",
      "Found D drive all ok\n"
     ]
    }
   ],
   "source": [
    "import string\n",
    "from ctypes import windll\n",
    "\n",
    "class DVDError(Exception):\n",
    "    pass\n",
    "\n",
    "def get_drives():\n",
    "    drives = []\n",
    "    bitmask = windll.kernel32.GetLogicalDrives()\n",
    "    print(bitmask)\n",
    "    for letter in 'ABCDEFGHIJKLMNOPQ':\n",
    "        if bitmask & 1:\n",
    "            drives.append(letter)\n",
    "        bitmask >>= 1\n",
    "\n",
    "    return drives\n",
    "\n",
    "def drive_is_d():\n",
    "    drive_list = get_drives()\n",
    "    assert len(drive_list) == 2\n",
    "    assert drive_list[1] == 'D'\n",
    "    return True\n",
    "\n",
    "def open_dvd():\n",
    "    windll.WINMM.mciSendStringW(u\"set cdaudio door open\", None, 0, None)\n",
    "\n",
    "def close_dvd():\n",
    "    windll.WINMM.mciSendStringW(u\"set cdaudio door closed\", None, 0, None)\n",
    "\n",
    "if drive_is_d():\n",
    "    print('Found D drive all ok')\n",
    "else:\n",
    "    raise DVDError(\"Didn't find D drive\")"
   ]
  },
  {
   "cell_type": "markdown",
   "metadata": {},
   "source": [
    "## Robot controller"
   ]
  },
  {
   "cell_type": "code",
   "execution_count": 3,
   "metadata": {},
   "outputs": [
    {
     "name": "stdout",
     "output_type": "stream",
     "text": [
      "Robot>import control1\r\n",
      ">>> \n"
     ]
    }
   ],
   "source": [
    "import time\n",
    "\n",
    "import od_control\n",
    "\n",
    "robot = od_control.ODRobot(open_dvd, close_dvd, com_port=\"COM6\")"
   ]
  },
  {
   "cell_type": "markdown",
   "metadata": {},
   "source": [
    "## DVD  control and burning"
   ]
  },
  {
   "cell_type": "code",
   "execution_count": 4,
   "metadata": {},
   "outputs": [
    {
     "name": "stdout",
     "output_type": "stream",
     "text": [
      "pygame 1.9.4\n",
      "Hello from the pygame community. https://www.pygame.org/contribute.html\n",
      "Number of drives = 1\n"
     ]
    }
   ],
   "source": [
    "import pygame\n",
    "\n",
    "pygame.cdrom.init()\n",
    "number_of_drives = pygame.cdrom.get_count()\n",
    "print(f\"Number of drives = {number_of_drives}\")"
   ]
  },
  {
   "cell_type": "code",
   "execution_count": 5,
   "metadata": {},
   "outputs": [],
   "source": [
    "# Open the drive\n",
    "#drive = pygame.cdrom.CD(0)\n",
    "#drive.init()\n",
    "#drive.eject()  # Worked!"
   ]
  },
  {
   "cell_type": "code",
   "execution_count": 7,
   "metadata": {},
   "outputs": [],
   "source": [
    "# close drive\n",
    "drive.quit()  # Need to get pygame to let go of drive and then use the close command to shut it\n",
    "close_dvd()"
   ]
  },
  {
   "cell_type": "code",
   "execution_count": 8,
   "metadata": {},
   "outputs": [],
   "source": [
    "def print_readme():\n",
    "    # Assume disk loaded\n",
    "    # look for readme.markdown and then print\n",
    "    print(\"Testing disk read me\")\n",
    "    with open(\"d:/readme.markdown\",\"r\") as f:\n",
    "        content = f.readlines()\n",
    "        for line in content:\n",
    "            print(line)\n",
    "    \n",
    "\n"
   ]
  },
  {
   "cell_type": "markdown",
   "metadata": {},
   "source": [
    "## Auto control"
   ]
  },
  {
   "cell_type": "code",
   "execution_count": 16,
   "metadata": {},
   "outputs": [
    {
     "name": "stdout",
     "output_type": "stream",
     "text": [
      "Disk loaded\n",
      "Unkown blank disk\n"
     ]
    }
   ],
   "source": [
    "# Charactirize disk\n",
    "drive.init()\n",
    "is_disk = not drive.get_empty()\n",
    "if is_disk:\n",
    "    print(\"Disk loaded\")\n",
    "    try:\n",
    "        is_audio = drive.get_track_audio(0)\n",
    "        if is_disk:\n",
    "            print(\"Disk is CD (maybe not audio)\")\n",
    "            print_readme()\n",
    "        else:\n",
    "            print(\"Disk is not CD\")\n",
    "    except IndexError:  # eg Invalid track number as disk is blank\n",
    "        # Dont' yet know what type of disk it is\n",
    "        print(\"Unkown blank disk\")\n",
    "else:\n",
    "    print(\"No disk loaded\")\n"
   ]
  },
  {
   "cell_type": "code",
   "execution_count": 11,
   "metadata": {},
   "outputs": [
    {
     "name": "stdout",
     "output_type": "stream",
     "text": [
      "Robot>control1.th.park()\n",
      ">>> \n",
      "Robot>control1.th.shutdown()\n",
      ">>> \n",
      "Robot>control1.z_axis.nudge(44, run_time=90)\n",
      "Shutdown Z Axis nudge\n",
      ">>> \n",
      "Robot>control1.z_axis.shutdown()\n",
      ">>> \n",
      "Robot>control1.rotate.wait_set_position(81)\n",
      ">>> \n",
      "Robot>control1.rotate.wait_set_position(86)\n",
      ">>> \n",
      "Robot>control1.th.release()\n",
      ">>> \n",
      "Robot>control1.z_axis.nudge(49, run_time=120)\n",
      "\n",
      "Robot>Shutdown Z Axis nudge\n",
      ">>> control1.th.grip()\n",
      ">>> control1.z_axis.nudge(44, run_time=90)\n",
      "\n",
      "Robot>Shutdown Z Axis nudge\n",
      ">>> control1.z_axis.shutdown()\n",
      ">>> control1.rotate.wait_set_position(44)\n",
      ">>> control1.rotate.wait_set_position(49)\n",
      ">>> control1.z_axis.nudge(49, run_time=40)\n",
      "\n",
      "Robot>Shutdown Z Axis nudge\n",
      ">>> control1.th.release()\n",
      ">>> \n",
      "Robot>control1.th.park()\n",
      ">>> \n",
      "Robot>control1.th.shutdown()\n",
      ">>> \n",
      "Robot>control1.th.park()\n",
      ">>> \n",
      "Robot>control1.th.shutdown()\n",
      ">>> \n",
      "Robot>control1.z_axis.nudge(44, run_time=90)\n",
      "\n",
      "Robot>Shutdown Z Axis nudge\n",
      ">>> control1.z_axis.shutdown()\n",
      ">>> \n"
     ]
    }
   ],
   "source": [
    "robot.load()"
   ]
  },
  {
   "cell_type": "code",
   "execution_count": 14,
   "metadata": {},
   "outputs": [],
   "source": [
    "drive.quit()\n",
    "robot.disk_close()"
   ]
  },
  {
   "cell_type": "code",
   "execution_count": null,
   "metadata": {},
   "outputs": [],
   "source": []
  }
 ],
 "metadata": {
  "kernelspec": {
   "display_name": "Python 3",
   "language": "python",
   "name": "python3"
  },
  "language_info": {
   "codemirror_mode": {
    "name": "ipython",
    "version": 3
   },
   "file_extension": ".py",
   "mimetype": "text/x-python",
   "name": "python",
   "nbconvert_exporter": "python",
   "pygments_lexer": "ipython3",
   "version": "3.6.3"
  }
 },
 "nbformat": 4,
 "nbformat_minor": 2
}
