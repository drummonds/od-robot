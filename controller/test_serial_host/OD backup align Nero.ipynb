{
 "cells": [
  {
   "cell_type": "markdown",
   "metadata": {},
   "source": [
    "# OD Backup controller Align\n",
    "At some point the rotatation arm can get out of zero and will need to be adjusted.  This helps you do that process.\n",
    "\n",
    "\n",
    "To align (Servo version) follow the instruction in this notebook.\n",
    "\n",
    "- Test alignment\n",
    "- Make sure coarse alignment is ok\n",
    "- Fine tune\n",
    "- Test pickup and drop"
   ]
  },
  {
   "cell_type": "markdown",
   "metadata": {},
   "source": [
    "## Nero Driver Controller"
   ]
  },
  {
   "cell_type": "code",
   "execution_count": 1,
   "metadata": {},
   "outputs": [],
   "source": [
    "import subprocess\n",
    "\n",
    "\n",
    "class ODMedia:\n",
    "    def __init__(self):\n",
    "        self.path_root = r\"C:\\Program Files (x86)\\Nero\\Nero 2019\\Nero Burning ROM\\nerocmd.exe\"\n",
    "    \n",
    "    def version(self):\n",
    "        result = subprocess.run([self.path_root, \"--version\"], stdout=subprocess.PIPE)\n",
    "        return result.stdout.decode('utf-8')\n",
    "\n",
    "    def list_drives(self):\n",
    "        result = subprocess.run([self.path_root, \"--listdrives\"], stdout=subprocess.PIPE)\n",
    "        return result.stdout.decode('utf-8')\n",
    "\n",
    "    @property\n",
    "    def number_of_drives(self):\n",
    "        return len(self.list_drives().split('\\n')[2:-4])\n",
    "\n",
    "    def drive_type(self):\n",
    "        # TODO Not working as returns '' but from commmandline works\n",
    "        result = subprocess.run([self.path_root, \"--driveinfo\", \"--drivename\", \"d:\"], stdout=subprocess.PIPE)\n",
    "        return result.stdout.decode('utf-8')\n",
    "\n",
    "    def disk_open(self):\n",
    "        result = subprocess.run([self.path_root, \"--eject\", \"--drivename\", \"d:\"], stdout=subprocess.PIPE)\n",
    "        return result.stdout.decode('utf-8')\n",
    "\n",
    "    def disk_close(self):\n",
    "        result = subprocess.run([self.path_root, \"--load\", \"--drivename\", \"d:\"], stdout=subprocess.PIPE)\n",
    "        return result.stdout.decode('utf-8')\n",
    "\n",
    "    def disk_type(self):\n",
    "        result = subprocess.run([self.path_root, \"--discinfo\", \"--drivename\", \"d:\"], stdout=subprocess.PIPE)\n",
    "        return result.stdout.decode('utf-8')\n",
    "    \n",
    "\n",
    "media = ODMedia()"
   ]
  },
  {
   "cell_type": "markdown",
   "metadata": {},
   "source": [
    "## Robot Control\n",
    "This imports the code."
   ]
  },
  {
   "cell_type": "code",
   "execution_count": 2,
   "metadata": {},
   "outputs": [
    {
     "name": "stdout",
     "output_type": "stream",
     "text": [
      "Robot>import control1\r\n",
      ">>> \n"
     ]
    }
   ],
   "source": [
    "import time\n",
    "\n",
    "import od_control\n",
    "\n",
    "robot = od_control.ODRobot(media.disk_open, media.disk_close, com_port=\"COM6\")"
   ]
  },
  {
   "cell_type": "markdown",
   "metadata": {},
   "source": [
    "## Now start the list of commands to align the rotator"
   ]
  },
  {
   "cell_type": "code",
   "execution_count": 3,
   "metadata": {},
   "outputs": [
    {
     "name": "stdout",
     "output_type": "stream",
     "text": [
      "Found D drive all ok\n"
     ]
    }
   ],
   "source": [
    "# Turn on robot if not on (making sure the drive can safely retract)\n",
    "if media.number_of_drives == 1:\n",
    "    print('Found D drive all ok')\n",
    "else:\n",
    "    raise od_media.ODMediaError(\"Didn't find D drive\")"
   ]
  },
  {
   "cell_type": "code",
   "execution_count": 4,
   "metadata": {},
   "outputs": [],
   "source": [
    "robot.zero_toolhead()  # Make sure toolhead out of the way"
   ]
  },
  {
   "cell_type": "code",
   "execution_count": 5,
   "metadata": {},
   "outputs": [],
   "source": [
    "# Test the DVD\n",
    "robot.disk_open()\n",
    "robot.rotator.to_bin('od')\n",
    "robot.move_toolhead_to(30)"
   ]
  },
  {
   "cell_type": "markdown",
   "metadata": {},
   "source": [
    "## Check Coarse alignment\n",
    "The toolhead should be above the CD drive. Put in a test CD to check alignment.\n",
    "**If the toolhead is not close (Just beside hole) then**:\n",
    "- Turn power off\n",
    "- Rotate head by hand \n",
    "- Power on *Drive will be closed*\n",
    "- Restart kernel and clear outputs\n",
    "- Restart this notebook"
   ]
  },
  {
   "cell_type": "markdown",
   "metadata": {},
   "source": [
    "## Fine tune alignement\n",
    "Adjust defaults in code (TODO store in device)"
   ]
  },
  {
   "cell_type": "markdown",
   "metadata": {},
   "source": [
    "## Test pickup and drop on Optical Drive"
   ]
  },
  {
   "cell_type": "code",
   "execution_count": 6,
   "metadata": {},
   "outputs": [
    {
     "name": "stdout",
     "output_type": "stream",
     "text": [
      "Robot>control1.th.grip()\n",
      ">>> \n",
      "Robot>control1.th.release()\n",
      ">>> \n",
      "Robot>control1.th.park()\n",
      ">>> \n",
      "Robot>control1.th.shutdown()\n",
      ">>> \n"
     ]
    }
   ],
   "source": [
    "# Check grip, release, park and shutdown work\n",
    "robot.grip()\n",
    "robot.release()\n",
    "robot.park()\n",
    "robot.shutdown()"
   ]
  },
  {
   "cell_type": "code",
   "execution_count": 8,
   "metadata": {},
   "outputs": [
    {
     "name": "stdout",
     "output_type": "stream",
     "text": [
      "Robot>control1.th.release()\n",
      ">>> \n",
      "Robot>control1.z_axis.nudge(50,run_time=70)\n",
      "Shutdown Z Axis nudge\n",
      ">>> \n",
      "Robot>control1.th.grip()\n",
      ">>> \n"
     ]
    }
   ],
   "source": [
    "robot.pickup_from_bin('od')\n",
    "# If this does not happen smoothly then a fine adjustment of set posisition could help"
   ]
  },
  {
   "cell_type": "code",
   "execution_count": 9,
   "metadata": {},
   "outputs": [
    {
     "name": "stdout",
     "output_type": "stream",
     "text": [
      "Robot>control1.z_axis.nudge(50,run_time=40)\n",
      "Shutdown Z Axis nudge\n",
      ">>> \n",
      "Robot>control1.th.release()\n",
      ">>> \n"
     ]
    }
   ],
   "source": [
    "robot.drop_on_bin('od')\n",
    "# Disk should be centered in drive"
   ]
  },
  {
   "cell_type": "markdown",
   "metadata": {},
   "source": [
    "## Test pickup and drop on In Bin\n",
    "First test alignment\n",
    "Then check pickup and drop"
   ]
  },
  {
   "cell_type": "code",
   "execution_count": null,
   "metadata": {},
   "outputs": [],
   "source": []
  },
  {
   "cell_type": "code",
   "execution_count": 10,
   "metadata": {},
   "outputs": [
    {
     "name": "stdout",
     "output_type": "stream",
     "text": [
      "Robot>control1.th.release()\n",
      ">>> \n",
      "Robot>control1.z_axis.nudge(50,run_time=150)\n",
      "Shutdown Z Axis nudge\n",
      ">>> \n",
      "Robot>control1.th.grip()\n",
      ">>> \n"
     ]
    }
   ],
   "source": [
    "robot.pickup_from_bin('in')"
   ]
  },
  {
   "cell_type": "code",
   "execution_count": 11,
   "metadata": {},
   "outputs": [
    {
     "name": "stdout",
     "output_type": "stream",
     "text": [
      "Robot>control1.z_axis.nudge(50,run_time=20)\n",
      "Shutdown Z Axis nudge\n",
      ">>> \n",
      "Robot>control1.th.release()\n",
      ">>> \n"
     ]
    }
   ],
   "source": [
    "robot.drop_on_bin('in')"
   ]
  },
  {
   "cell_type": "code",
   "execution_count": null,
   "metadata": {},
   "outputs": [],
   "source": []
  },
  {
   "cell_type": "code",
   "execution_count": null,
   "metadata": {},
   "outputs": [],
   "source": []
  },
  {
   "cell_type": "markdown",
   "metadata": {},
   "source": [
    "## Test pickup and drop on Out Bin\n",
    "First test alignment\n",
    "Then check pickup and drop.  Make sure have disck in out bin"
   ]
  },
  {
   "cell_type": "code",
   "execution_count": null,
   "metadata": {},
   "outputs": [],
   "source": [
    "robot.pickup_from_bin('out')"
   ]
  },
  {
   "cell_type": "code",
   "execution_count": null,
   "metadata": {},
   "outputs": [],
   "source": [
    "robot.drop_on_bin('out')"
   ]
  },
  {
   "cell_type": "code",
   "execution_count": null,
   "metadata": {},
   "outputs": [],
   "source": [
    "robot.drop_on_out_bin()"
   ]
  },
  {
   "cell_type": "markdown",
   "metadata": {},
   "source": [
    "## Testing waste bin\n",
    "Make sure you have a test disk on the source.\n",
    "Remember with cannot pickup from waste"
   ]
  },
  {
   "cell_type": "code",
   "execution_count": null,
   "metadata": {},
   "outputs": [],
   "source": [
    "robot.pickup_from_bin('od')"
   ]
  },
  {
   "cell_type": "code",
   "execution_count": null,
   "metadata": {},
   "outputs": [],
   "source": [
    "robot.drop_on_bin('waste')"
   ]
  },
  {
   "cell_type": "markdown",
   "metadata": {},
   "source": [
    "## Test unloading from empty optical drive bin"
   ]
  },
  {
   "cell_type": "code",
   "execution_count": null,
   "metadata": {},
   "outputs": [],
   "source": [
    "#robot.unload()"
   ]
  },
  {
   "cell_type": "code",
   "execution_count": null,
   "metadata": {},
   "outputs": [],
   "source": [
    "#robot.unload()"
   ]
  },
  {
   "cell_type": "markdown",
   "metadata": {},
   "source": [
    "# Blank unload  test\n",
    "The result was *Not safe*.  The toolhead went through the hole in the DVD drive and kept on going.  \n",
    "I suppose you can test by using the DVD drive to check that the drive has a disk loaded before unloading."
   ]
  }
 ],
 "metadata": {
  "kernelspec": {
   "display_name": "Python 3",
   "language": "python",
   "name": "python3"
  },
  "language_info": {
   "codemirror_mode": {
    "name": "ipython",
    "version": 3
   },
   "file_extension": ".py",
   "mimetype": "text/x-python",
   "name": "python",
   "nbconvert_exporter": "python",
   "pygments_lexer": "ipython3",
   "version": "3.6.3"
  }
 },
 "nbformat": 4,
 "nbformat_minor": 2
}
