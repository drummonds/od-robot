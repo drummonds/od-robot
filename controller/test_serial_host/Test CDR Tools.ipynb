{
 "cells": [
  {
   "cell_type": "markdown",
   "metadata": {},
   "source": [
    "# Test CDR Tools\n",
    "https://opensourcepack.blogspot.com/p/cdrtools.html"
   ]
  },
  {
   "cell_type": "code",
   "execution_count": null,
   "metadata": {},
   "outputs": [],
   "source": [
    "import subprocess\n",
    "\n",
    "\n",
    "class ODMedia:\n",
    "    def __init__(self):\n",
    "        self.path_root = r\"C:\\Users\\HumphreyDrummond\\Downloads\\schily-cdrtools-3.02a05\\win64\"\n",
    "    \n",
    "    def version(self):\n",
    "        result = subprocess.run([self.path_root + r\"\\cdrecord\", \"--version\"], stdout=subprocess.PIPE)\n",
    "        return result.stdout.decode('utf-8')\n",
    "\n",
    "    def drive_type(self):\n",
    "        result = subprocess.run([self.path_root + r\"\\cdrecord\", \"-prcap\"], stdout=subprocess.PIPE)\n",
    "        return result.stdout.decode('utf-8')\n",
    "\n",
    "    def disk_type(self):\n",
    "        result = subprocess.run([self.path_root + r\"\\cdrecord\", \"-minfo\", \"-v\"], stdout=subprocess.PIPE)\n",
    "        return result.stdout.decode('utf-8')\n",
    "\n",
    "media = ODMedia()\n",
    "print(media.drive_type())\n",
    "print(media.disk_type())"
   ]
  },
  {
   "cell_type": "code",
   "execution_count": null,
   "metadata": {},
   "outputs": [],
   "source": [
    "import wmi\n",
    "import os\n",
    "import time\n",
    "import ctypes\n",
    "\n",
    "class ODInfoError(Exception):\n",
    "    pass\n",
    "\n",
    "class ODInfo:\n",
    "    def __init__(self):\n",
    "        c = wmi.WMI()\n",
    "        self.num_optical_drives = len(c.Win32_CDROMDrive())\n",
    "        assert self.num_optical_drives == 1, ODInfoError(\n",
    "            f'Assume 1 and only 1 drive but have {self.num_optical_drives}')\n",
    "        self.cdrom = c.Win32_CDROMDrive()[0]\n",
    "        print('Media loaded', self.media_loaded)\n",
    "        #print(cdrom)\n",
    "        #print(cdrom.__dict__)\n",
    "\n",
    "        for disk in c.Win32_LogicalDisk():\n",
    "            # Drive Type  from https://blogs.technet.microsoft.com/heyscriptingguy/2014/09/10/inventory-drive-types-by-using-powershell/\n",
    "            #  2 = \"Removable disk\"\n",
    "            #  3=\"Fixed local disk\"\n",
    "            #  4=\"Network disk\"\n",
    "            #  5 = \"Compact disk\n",
    "            if int(disk.DriveType) == 5:  # Found the 1 Optical drive\n",
    "                self.device_id = disk.DeviceID  # Blank\n",
    "                self.file_system = disk.FileSystem\n",
    "                self.free_space = disk.FreeSpace\n",
    "                self.size = disk.Size\n",
    "        #        print(disk)\n",
    "\n",
    "    @property\n",
    "    def media_loaded(self):\n",
    "        return self.cdrom.MediaLoaded\n",
    "        \n",
    "    @property\n",
    "    def blank_media(self):\n",
    "        return self.file_system is None\n",
    "        \n",
    "    def __str__(self):\n",
    "        result = self.cdrom.manufacturer + '\\n'\n",
    "        result += f'Blank Media = {self.blank_media}\\n'\n",
    "        if self.media_loaded:\n",
    "            result += 'Media loaded\\n'\n",
    "            result += f'Device ID = {self.device_id}\\n'\n",
    "            result += f'File system = {self.file_system}\\n'\n",
    "            result += f'Free Space = {self.free_space}\\n'\n",
    "            result += f'Size = {self.size}\\n'\n",
    "        else:\n",
    "            result += 'No media loaded\\n'\n",
    "        return result\n",
    "\n",
    "        #for disk in c.Win32_DiskDrive():\n",
    "        #    print(disk)\n",
    "\n",
    "\n",
    "        #for media in c.Win32_PhysicalMedia():\n",
    "        #    if media.tag.find(\"CDROM\") >= 0:\n",
    "        #        print(media)\n",
    "        #        if media.Manufacturer != None:\n",
    "        #            print(\"Manufacturer:\" + media.Manufacturer)\n",
    "\n",
    "a = ODInfo()\n",
    "print(a)\n"
   ]
  },
  {
   "cell_type": "code",
   "execution_count": 2,
   "metadata": {},
   "outputs": [],
   "source": [
    "import pyIMAPI\n"
   ]
  },
  {
   "cell_type": "code",
   "execution_count": 3,
   "metadata": {},
   "outputs": [],
   "source": [
    "disk_types = [\"CD\", \"DVD\", \"DVDDL\", \"BluRay\"]\n",
    "\n",
    "for dt in disk_types:\n",
    "    specific_physical_media_test_filename = dt+\"-test.txt\"\n",
    "    t = open(specific_physical_media_test_filename, \"w\")\n",
    "    t.write(\"this \"+ dt +\" test works\")\n",
    "    t.close()\n",
    "\n",
    "    o = pyIMAPI.open(dt+\"-test.iso\", disk_type=dt)\n",
    "    o.add(specific_physical_media_test_filename)\n",
    "    o.close()\n"
   ]
  },
  {
   "cell_type": "code",
   "execution_count": null,
   "metadata": {},
   "outputs": [],
   "source": []
  }
 ],
 "metadata": {
  "kernelspec": {
   "display_name": "Python 3",
   "language": "python",
   "name": "python3"
  },
  "language_info": {
   "codemirror_mode": {
    "name": "ipython",
    "version": 3
   },
   "file_extension": ".py",
   "mimetype": "text/x-python",
   "name": "python",
   "nbconvert_exporter": "python",
   "pygments_lexer": "ipython3",
   "version": "3.6.3"
  }
 },
 "nbformat": 4,
 "nbformat_minor": 2
}
