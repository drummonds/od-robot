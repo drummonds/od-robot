{
 "cells": [
  {
   "cell_type": "markdown",
   "metadata": {},
   "source": [
    "# Test storing data\n",
    "First I want to store my already sorted pictures.  I want to enumerate and sort by date.  Then see how many years will take me to 6GB  ca 10 cds.\n"
   ]
  },
  {
   "cell_type": "code",
   "execution_count": 19,
   "metadata": {},
   "outputs": [
    {
     "name": "stdout",
     "output_type": "stream",
     "text": [
      "Z:\\Home Pictures\\1982\n",
      "Z:\\Home Pictures\\1993\n",
      "Z:\\Home Pictures\\1994\n",
      "Z:\\Home Pictures\\1998 Cranfield\n",
      "Z:\\Home Pictures\\1999\n",
      "Z:\\Home Pictures\\2000\n",
      "Z:\\Home Pictures\\2001\n",
      "Z:\\Home Pictures\\2002\n",
      "Z:\\Home Pictures\\2003\n",
      "Z:\\Home Pictures\\2004\n",
      "Z:\\Home Pictures\\2005\n",
      "Z:\\Home Pictures\\2006\n",
      "Z:\\Home Pictures\\2007\n",
      "Z:\\Home Pictures\\2008\n",
      "Z:\\Home Pictures\\2009\n",
      "Z:\\Home Pictures\\2010\n",
      "Z:\\Home Pictures\\2011\n",
      "Z:\\Home Pictures\\2012\n",
      "Z:\\Home Pictures\\2013\n",
      "Z:\\Home Pictures\\2014\n",
      "Z:\\Home Pictures\\2015\n",
      "Z:\\Home Pictures\\2016\n",
      "Z:\\Home Pictures\\2017\n",
      "Z:\\Home Pictures\\2018\n",
      "[['Z:\\\\Home Pictures\\\\1982', 9830881, 9830881], ['Z:\\\\Home Pictures\\\\1993', 1027131, 10858012], ['Z:\\\\Home Pictures\\\\1994', 28073140, 38931152], ['Z:\\\\Home Pictures\\\\1998 Cranfield', 31868876, 70800028], ['Z:\\\\Home Pictures\\\\1999', 57918649, 128718677], ['Z:\\\\Home Pictures\\\\2000', 1088035534, 1216754211], ['Z:\\\\Home Pictures\\\\2001', 2597158610, 3813912821], ['Z:\\\\Home Pictures\\\\2002', 5240020, 3819152841], ['Z:\\\\Home Pictures\\\\2003', 746095, 3819898936], ['Z:\\\\Home Pictures\\\\2004', 6743610466, 10563509402], ['Z:\\\\Home Pictures\\\\2005', 17186078809, 27749588211], ['Z:\\\\Home Pictures\\\\2006', 18296269694, 46045857905], ['Z:\\\\Home Pictures\\\\2007', 10406739675, 56452597580], ['Z:\\\\Home Pictures\\\\2008', 5076033723, 61528631303], ['Z:\\\\Home Pictures\\\\2009', 16211906873, 77740538176], ['Z:\\\\Home Pictures\\\\2010', 24361588291, 102102126467], ['Z:\\\\Home Pictures\\\\2011', 35948998113, 138051124580], ['Z:\\\\Home Pictures\\\\2012', 45035827, 138096160407], ['Z:\\\\Home Pictures\\\\2013', 0, 138096160407], ['Z:\\\\Home Pictures\\\\2014', 0, 138096160407], ['Z:\\\\Home Pictures\\\\2015', 0, 138096160407], ['Z:\\\\Home Pictures\\\\2016', 18104720789, 156200881196], ['Z:\\\\Home Pictures\\\\2017', 123350050, 156324231246], ['Z:\\\\Home Pictures\\\\2018', 6245337, 156330476583]]\n"
     ]
    }
   ],
   "source": [
    "from functools import partial\n",
    "import os\n",
    "import re\n",
    "import shutil\n",
    "\n",
    "root_path = r'Z:\\Home Pictures'\n",
    "number_start = re.compile('^\\d\\d\\d\\d')\n",
    "\n",
    "def getFolderSize(start_path = '.'):\n",
    "    total_size = 0\n",
    "    for dirpath, dirnames, filenames in os.walk(start_path):\n",
    "        for f in filenames:\n",
    "            fp = os.path.join(dirpath, f)\n",
    "            total_size += os.path.getsize(fp)\n",
    "    return total_size\n",
    "\n",
    "size_sum = 0\n",
    "results = []\n",
    "with os.scandir(root_path) as it:\n",
    "    for entry in it:\n",
    "        if not entry.is_file():\n",
    "            if number_start.search(entry.name):\n",
    "                print(entry.path)\n",
    "                folder_size = getFolderSize(entry.path) \n",
    "                size_sum += folder_size\n",
    "                results.append([entry.path, folder_size, size_sum])\n",
    "print(results)\n",
    "#        if not entry.name.startswith('.') and entry.is_file():\n",
    "#            print(entry.name)    \n",
    "    "
   ]
  },
  {
   "cell_type": "code",
   "execution_count": 26,
   "metadata": {},
   "outputs": [
    {
     "name": "stdout",
     "output_type": "stream",
     "text": [
      "9 ['Z:\\\\Home Pictures\\\\2004', 6743610466, 10563509402]\n"
     ]
    }
   ],
   "source": [
    "for i,list in enumerate(results):\n",
    "    if list[2] > 6*1E9:\n",
    "        print(i, list)\n",
    "        break"
   ]
  },
  {
   "cell_type": "code",
   "execution_count": 28,
   "metadata": {},
   "outputs": [
    {
     "data": {
      "text/plain": [
       "['Z:\\\\Home Pictures\\\\1982',\n",
       " 'Z:\\\\Home Pictures\\\\1993',\n",
       " 'Z:\\\\Home Pictures\\\\1994',\n",
       " 'Z:\\\\Home Pictures\\\\1998 Cranfield',\n",
       " 'Z:\\\\Home Pictures\\\\1999',\n",
       " 'Z:\\\\Home Pictures\\\\2000',\n",
       " 'Z:\\\\Home Pictures\\\\2001',\n",
       " 'Z:\\\\Home Pictures\\\\2002',\n",
       " 'Z:\\\\Home Pictures\\\\2003']"
      ]
     },
     "execution_count": 28,
     "metadata": {},
     "output_type": "execute_result"
    }
   ],
   "source": [
    "# Get the list of directories\n",
    "[d[0] for d in results[:9]]"
   ]
  },
  {
   "cell_type": "code",
   "execution_count": null,
   "metadata": {},
   "outputs": [],
   "source": []
  }
 ],
 "metadata": {
  "kernelspec": {
   "display_name": "Python 3",
   "language": "python",
   "name": "python3"
  },
  "language_info": {
   "codemirror_mode": {
    "name": "ipython",
    "version": 3
   },
   "file_extension": ".py",
   "mimetype": "text/x-python",
   "name": "python",
   "nbconvert_exporter": "python",
   "pygments_lexer": "ipython3",
   "version": "3.6.3"
  }
 },
 "nbformat": 4,
 "nbformat_minor": 2
}
