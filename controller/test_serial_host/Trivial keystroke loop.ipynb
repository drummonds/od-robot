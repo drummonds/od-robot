{
 "cells": [
  {
   "cell_type": "markdown",
   "metadata": {},
   "source": [
    "# This is a simple keystroke command loop\n",
    "Ipython uses a javscript front end in the browser which actually makes catching keystrokes difficult. Much easier to catch whole lines.  This means each keystroke needs to be followed with a carriage return\n"
   ]
  },
  {
   "cell_type": "code",
   "execution_count": 1,
   "metadata": {},
   "outputs": [
    {
     "name": "stdout",
     "output_type": "stream",
     "text": [
      "->w\n",
      "Unrecognised command\n",
      "->e\n",
      "Exit command\n"
     ]
    }
   ],
   "source": [
    "while 1:\n",
    "    # get keyboard input\n",
    "    user_input = input(\"->\")\n",
    "    if user_input == 'e':\n",
    "        print(\"Exit command\")\n",
    "        break \n",
    "    elif user_input == 'y':\n",
    "        print(\"Y command\")\n",
    "    else:\n",
    "        print(\"Unrecognised command\")\n"
   ]
  },
  {
   "cell_type": "code",
   "execution_count": null,
   "metadata": {},
   "outputs": [],
   "source": []
  }
 ],
 "metadata": {
  "kernelspec": {
   "display_name": "Python 3",
   "language": "python",
   "name": "python3"
  },
  "language_info": {
   "codemirror_mode": {
    "name": "ipython",
    "version": 3
   },
   "file_extension": ".py",
   "mimetype": "text/x-python",
   "name": "python",
   "nbconvert_exporter": "python",
   "pygments_lexer": "ipython3",
   "version": "3.6.3"
  }
 },
 "nbformat": 4,
 "nbformat_minor": 2
}
