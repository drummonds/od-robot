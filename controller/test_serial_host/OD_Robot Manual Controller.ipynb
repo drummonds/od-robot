{
 "cells": [
  {
   "cell_type": "markdown",
   "metadata": {},
   "source": [
    "# Manual controller\n",
    " Sends commands to a remote device on a serial port.  If an unknown commmand sends the #\n",
    "whole lot.  Assuming a REPL loop rather like a terminal"
   ]
  },
  {
   "cell_type": "code",
   "execution_count": null,
   "metadata": {},
   "outputs": [
    {
     "name": "stdout",
     "output_type": "stream",
     "text": [
      "Enter your commands below.\n",
      "Type \"e\" to leave the application.\n",
      "Robot>import control1\n",
      "TController 0.5 2018-08-31\n",
      "Test finished\n",
      ">>> \n",
      "->m\n",
      "Robot>control1.th.grip()\n",
      ">>> \n"
     ]
    }
   ],
   "source": [
    "import time\n",
    "import serial\n",
    "\n",
    "# configure the serial connections (the parameters differs on the device you are connecting to)\n",
    "ser = serial.Serial(\n",
    "    port='COM6',\n",
    "    baudrate=115200\n",
    ")\n",
    "\n",
    "def robot(command):\n",
    "        ser.write((command + '\\r\\n').encode('utf-8'))\n",
    "        out = ''\n",
    "        # let's wait one second before reading output (let's give device time to answer)\n",
    "        time.sleep(1)\n",
    "        while ser.inWaiting() > 0:\n",
    "            out += ser.read(1).decode('utf-8')\n",
    "        if out != '':\n",
    "            print(\"Robot>\" + out)\n",
    "\n",
    "ser.isOpen()\n",
    "\n",
    "print('Enter your commands below.\\r\\nType \"e\" to leave the application.')\n",
    "robot('import control1')  # Tends to do a soft reset at end of prog\n",
    "\n",
    "while 1 :\n",
    "    # get keyboard input\n",
    "    user_input = input(\"->\")\n",
    "    if user_input == 'e':\n",
    "        ser.close()\n",
    "        break\n",
    "    elif user_input == 'n':\n",
    "        robot('control1.th.park()')\n",
    "    elif user_input == 'm':\n",
    "        robot('control1.th.grip()')\n",
    "    elif user_input == ',':\n",
    "        robot('control1.th.release()')\n",
    "    elif user_input == '.':\n",
    "        robot('control1.th.shutdown()')\n",
    "    elif user_input == 's':\n",
    "        robot('control1.status()')\n",
    "    elif user_input == 's10':\n",
    "        for i in range(10):\n",
    "            robot('control1.status()')\n",
    "    else:\n",
    "        robot(user_input)\n"
   ]
  },
  {
   "cell_type": "markdown",
   "metadata": {},
   "source": []
  }
 ],
 "metadata": {
  "kernelspec": {
   "display_name": "Python 3",
   "language": "python",
   "name": "python3"
  },
  "language_info": {
   "codemirror_mode": {
    "name": "ipython",
    "version": 3
   },
   "file_extension": ".py",
   "mimetype": "text/x-python",
   "name": "python",
   "nbconvert_exporter": "python",
   "pygments_lexer": "ipython3",
   "version": "3.6.3"
  }
 },
 "nbformat": 4,
 "nbformat_minor": 2
}
