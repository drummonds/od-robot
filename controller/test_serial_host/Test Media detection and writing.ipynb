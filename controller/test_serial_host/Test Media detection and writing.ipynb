{
 "cells": [
  {
   "cell_type": "markdown",
   "metadata": {},
   "source": [
    "# Test Media\n",
    "Need answers to the following questions and problems:\n",
    "- Is drive empty\n",
    "- What is the disc CD DVD or Bluray\n",
    "- is the disk blank\n",
    "- Burn this iso file\n",
    "\n",
    "## First attempt is to use pymedia\n",
    "- Pymedia couldn't be installed by pip 9.0 but recommended an upgrade to 18.0.\n",
    "- Still didn't work\n",
    "- Looking for compiled binaries https://www.lfd.uci.edu/~gohlke/pythonlibs/#pymedia found no Python 3 binaries\n",
    "## Second attempt\n",
    "- not PyAV which is a binding for ffmpeg/libav\n",
    "- pygame ?  pygame.cdrom\n",
    "    pygame module for audio cdrom control\n",
    "- pygame at least installed\n",
    "\n",
    "\n"
   ]
  },
  {
   "cell_type": "code",
   "execution_count": 2,
   "metadata": {},
   "outputs": [
    {
     "data": {
      "text/plain": [
       "'c:\\\\python36\\\\python.exe'"
      ]
     },
     "execution_count": 2,
     "metadata": {},
     "output_type": "execute_result"
    }
   ],
   "source": [
    "import sys\n",
    "sys.executable"
   ]
  },
  {
   "cell_type": "code",
   "execution_count": 3,
   "metadata": {},
   "outputs": [
    {
     "name": "stdout",
     "output_type": "stream",
     "text": [
      "pygame 1.9.4\n",
      "Hello from the pygame community. https://www.pygame.org/contribute.html\n",
      "Number of drives = 1\n"
     ]
    }
   ],
   "source": [
    "import pygame\n",
    "\n",
    "pygame.cdrom.init()\n",
    "number_of_drives = pygame.cdrom.get_count()\n",
    "print(f\"Number of drives = {number_of_drives}\")"
   ]
  },
  {
   "cell_type": "code",
   "execution_count": 7,
   "metadata": {},
   "outputs": [],
   "source": [
    "# Open the drive\n",
    "drive = pygame.cdrom.CD(0)\n",
    "drive.init()\n",
    "drive.eject()  # Worked!"
   ]
  },
  {
   "cell_type": "code",
   "execution_count": 9,
   "metadata": {},
   "outputs": [],
   "source": [
    "# close drive\n",
    "import ctypes\n",
    "\n",
    "def close_drive():  # A bit of a hack - actually not good\n",
    "    ctypes.windll.WINMM.mciSendStringW(u\"set cdaudio door closed\", None, 0, None)\n",
    "\n",
    "drive.quit()  # Need to get pygame to let go of drive and then use the close command to shut it\n",
    "close_drive()"
   ]
  },
  {
   "cell_type": "code",
   "execution_count": 15,
   "metadata": {},
   "outputs": [
    {
     "name": "stdout",
     "output_type": "stream",
     "text": [
      "Disk loaded\n",
      "Disk is CD (maybe not audio)\n",
      "Testing disk read me\n",
      "# Archive File created by www.drummonds.net\n",
      "\n",
      "This archive was created 2018-06-04T10:43:36\n",
      "\n",
      "\n",
      "\n",
      "The data for this archive is stored in the directory /DATA.\n",
      "\n",
      "There is a catalogue of this archive stored in catalouge.json.  This catalogue has a list of all the files\n",
      "\n",
      "archived in this run and on which disc they are stored.  The same catalogue is written to each disc in the \n",
      "\n",
      "archive series.\n"
     ]
    }
   ],
   "source": [
    "def print_readme():\n",
    "    # Assume disk loaded\n",
    "    # look for readme.markdown and then print\n",
    "    print(\"Testing disk read me\")\n",
    "    with open(\"d:/readme.markdown\",\"r\") as f:\n",
    "        content = f.readlines()\n",
    "        for line in content:\n",
    "            print(line)\n",
    "    \n",
    "\n",
    "# Charactirize disk\n",
    "drive.init()\n",
    "is_disk = not drive.get_empty()\n",
    "if is_disk:\n",
    "    print(\"Disk loaded\")\n",
    "    is_audio = drive.get_track_audio(0)\n",
    "    if is_disk:\n",
    "        print(\"Disk is CD (maybe not audio)\")\n",
    "        print_readme()\n",
    "    else:\n",
    "        print(\"Disk is not CD\")\n",
    "else:\n",
    "    print(\"No disk loaded\")\n"
   ]
  },
  {
   "cell_type": "code",
   "execution_count": null,
   "metadata": {},
   "outputs": [],
   "source": [
    "drive.play(1)"
   ]
  },
  {
   "cell_type": "code",
   "execution_count": null,
   "metadata": {},
   "outputs": [],
   "source": [
    "dir(drive)"
   ]
  },
  {
   "cell_type": "code",
   "execution_count": null,
   "metadata": {},
   "outputs": [],
   "source": []
  }
 ],
 "metadata": {
  "kernelspec": {
   "display_name": "Python 3",
   "language": "python",
   "name": "python3"
  },
  "language_info": {
   "codemirror_mode": {
    "name": "ipython",
    "version": 3
   },
   "file_extension": ".py",
   "mimetype": "text/x-python",
   "name": "python",
   "nbconvert_exporter": "python",
   "pygments_lexer": "ipython3",
   "version": "3.6.3"
  }
 },
 "nbformat": 4,
 "nbformat_minor": 2
}
