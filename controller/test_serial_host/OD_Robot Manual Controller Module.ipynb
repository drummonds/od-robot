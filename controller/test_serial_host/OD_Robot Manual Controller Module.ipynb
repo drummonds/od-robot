{
 "cells": [
  {
   "cell_type": "markdown",
   "metadata": {},
   "source": [
    "# Manual control harness for python module\n",
    "## 2018-09-23\n",
    "Uses a python class to wrap the robot controller which is imported.\n",
    "\n",
    "### To align (Servo version)\n",
    "\n",
    "- Switch on if not on\n",
    "- Run the code if not already running\n",
    "- Use the command `td` to test the DVD.  This will position the tool head just above the DVD drive.\n",
    "- Put a dummy CD in\n",
    "- Turn the power off\n",
    "- Rotate the arm by hand to be exactly over the DVD\n",
    "- Turn the power on\n",
    "- Restart and clear output on code (the COM port will have gone and should now be back)"
   ]
  },
  {
   "cell_type": "markdown",
   "metadata": {},
   "source": [
    "## DVD door commands"
   ]
  },
  {
   "cell_type": "code",
   "execution_count": null,
   "metadata": {},
   "outputs": [
    {
     "name": "stdout",
     "output_type": "stream",
     "text": [
      "54525964\n",
      "Found D drive all ok\n"
     ]
    }
   ],
   "source": [
    "import string\n",
    "from ctypes import windll\n",
    "\n",
    "class DVDError(Exception):\n",
    "    pass\n",
    "\n",
    "def get_drives():\n",
    "    drives = []\n",
    "    bitmask = windll.kernel32.GetLogicalDrives()\n",
    "    print(bitmask)\n",
    "    for letter in 'ABCDEFGHIJKLMNOPQ':\n",
    "        if bitmask & 1:\n",
    "            drives.append(letter)\n",
    "        bitmask >>= 1\n",
    "\n",
    "    return drives\n",
    "\n",
    "def drive_is_d():\n",
    "    drive_list = get_drives()\n",
    "    assert len(drive_list) == 2\n",
    "    assert drive_list[1] == 'D'\n",
    "    return True\n",
    "\n",
    "def open_dvd():\n",
    "    windll.WINMM.mciSendStringW(u\"set cdaudio door open\", None, 0, None)\n",
    "\n",
    "def close_dvd():\n",
    "    windll.WINMM.mciSendStringW(u\"set cdaudio door closed\", None, 0, None)\n",
    "\n",
    "if drive_is_d():\n",
    "    print('Found D drive all ok')\n",
    "else:\n",
    "    raise DVDError(\"Didn't find D drive\")"
   ]
  },
  {
   "cell_type": "markdown",
   "metadata": {},
   "source": [
    "## Commands to control robot"
   ]
  },
  {
   "cell_type": "code",
   "execution_count": null,
   "metadata": {},
   "outputs": [
    {
     "name": "stdout",
     "output_type": "stream",
     "text": [
      "Robot>import control1\n",
      ">>> \n",
      "->l\n",
      "Robot>control1.th.park()\n",
      ">>> \n",
      "Robot>control1.th.shutdown()\n",
      ">>> \n",
      "Robot>control1.z_axis.nudge(44, run_time=90)\n",
      "Shutdown Z Axis nudge\n",
      ">>> \n",
      "Robot>control1.z_axis.shutdown()\n",
      ">>> \n",
      "Robot>control1.rotate.wait_set_position(81)\n",
      ">>> \n",
      "Robot>control1.rotate.wait_set_position(86)\n",
      ">>> \n",
      "Robot>control1.th.release()\n",
      ">>> \n",
      "Robot>control1.z_axis.nudge(49, run_time=120)\n",
      "\n",
      "Robot>Shutdown Z Axis nudge\n",
      ">>> control1.th.grip()\n",
      ">>> control1.z_axis.nudge(44, run_time=90)\n",
      "\n",
      "Robot>Shutdown Z Axis nudge\n",
      ">>> control1.z_axis.shutdown()\n",
      ">>> control1.rotate.wait_set_position(44)\n",
      ">>> control1.rotate.wait_set_position(49)\n",
      ">>> control1.z_axis.nudge(49, run_time=40)\n",
      "Shutdown Z Axis nudge\n",
      ">>> control1.th.release()\n",
      ">>> \n",
      "Robot>control1.th.park()\n",
      ">>> \n",
      "Robot>control1.th.shutdown()\n",
      ">>> \n",
      "Robot>control1.th.park()\n",
      ">>> \n",
      "Robot>control1.th.shutdown()\n",
      ">>> \n",
      "Robot>control1.z_axis.nudge(44, run_time=90)\n",
      "\n",
      "Robot>Shutdown Z Axis nudge\n",
      ">>> control1.z_axis.shutdown()\n",
      ">>> \n"
     ]
    }
   ],
   "source": [
    "import time\n",
    "\n",
    "import od_control\n",
    "\n",
    "robot = od_control.ODRobot(open_dvd, close_dvd, com_port=\"COM6\")\n",
    "\n",
    "\n",
    "while 1:\n",
    "    # get keyboard input\n",
    "    user_input = input(\"->\")\n",
    "    if user_input == 'e':\n",
    "        print('Shutting serial down')\n",
    "        robot.close()\n",
    "        print('Breaking loop to stop')\n",
    "        break\n",
    "    elif user_input == 'l':  # Load disk into drive\n",
    "        robot.load()\n",
    "    elif user_input == 'u':  # Unload disk from drive\n",
    "        robot.unload()\n",
    "    elif user_input == 'td':  # Test DVD alignment\n",
    "        robot.make_safe()\n",
    "        robot.disk_open()\n",
    "        robot.rotate.dvd()\n",
    "        robot.robot('control1.z_axis.nudge(49, run_time=30)')  # Move nearer dvd\n",
    "    elif user_input == 'td1':  # Test Pickup DVD from drive and drop it back\n",
    "        robot.make_safe()\n",
    "        robot.pickup_from_dvd_drive()\n",
    "        robot.drop_on_dvd_drive()\n",
    "        robot.make_safe()\n",
    "        robot.disk_close()\n",
    "    elif user_input == 'tl':  # Load disk into drive\n",
    "        robot.make_safe()\n",
    "        robot.rotate.in_bin()\n",
    "        robot.robot('control1.z_axis.nudge(49, run_time=30)')  # Move nearer dvd\n",
    "    elif user_input == 'tu':  # Unload disk from drive\n",
    "        robot.make_safe()\n",
    "        robot.rotate.out_bin()\n",
    "        robot.robot('control1.z_axis.nudge(49, run_time=30)')  # Move nearer dvd\n",
    "    elif user_input == 'n':\n",
    "        robot.robot('control1.th.park()')\n",
    "    elif user_input == 'm':\n",
    "        robot.robot('control1.th.grip()')\n",
    "    elif user_input == ',':\n",
    "        robot.robot('control1.th.release()')\n",
    "    elif user_input == '.':\n",
    "        robot.robot('control1.th.shutdown()')\n",
    "    elif len(user_input) > 2 and user_input[0] == 'r':\n",
    "        position = float(user_input[1:])\n",
    "        print(f'New position = {position}')\n",
    "        robot.robot(f'control1.rotate.wait_set_position({position})')\n",
    "    elif user_input == 's':\n",
    "        robot.robot('control1.status()')\n",
    "    elif user_input == 's10':\n",
    "        for i in range(10):\n",
    "            robot.robot('control1.status()')\n",
    "    else:\n",
    "        robot.robot(user_input)\n"
   ]
  },
  {
   "cell_type": "markdown",
   "metadata": {},
   "source": []
  }
 ],
 "metadata": {
  "kernelspec": {
   "display_name": "Python 3",
   "language": "python",
   "name": "python3"
  },
  "language_info": {
   "codemirror_mode": {
    "name": "ipython",
    "version": 3
   },
   "file_extension": ".py",
   "mimetype": "text/x-python",
   "name": "python",
   "nbconvert_exporter": "python",
   "pygments_lexer": "ipython3",
   "version": "3.6.3"
  }
 },
 "nbformat": 4,
 "nbformat_minor": 2
}
