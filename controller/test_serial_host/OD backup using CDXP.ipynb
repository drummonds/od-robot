{
 "cells": [
  {
   "cell_type": "markdown",
   "metadata": {},
   "source": [
    "# OD Backup controller\n",
    "This should develop into the controller run a backup automatically.  Using CDXPBUrner for drive control.\n",
    "\n",
    "- Aim read drive and convert to a stack of disks eg DVD\n",
    "- Want to verify quality"
   ]
  },
  {
   "cell_type": "markdown",
   "metadata": {},
   "source": [
    "## CDBurnerXP Driver Controller"
   ]
  },
  {
   "cell_type": "code",
   "execution_count": 1,
   "metadata": {},
   "outputs": [],
   "source": [
    "import subprocess\n",
    "\n",
    "\n",
    "class ODMedia:\n",
    "    def __init__(self):\n",
    "        self.path_root = r\"C:\\Program Files (x86)\\CDBurnerXP\\cdbxpcmd.exe\"\n",
    "    \n",
    "    def version(self):\n",
    "        result = subprocess.run([self.path_root, \"--version\"], stdout=subprocess.PIPE)\n",
    "        return result.stdout.decode('utf-8')\n",
    "\n",
    "    def list_drives(self):\n",
    "        result = subprocess.run([self.path_root, \"--list_drives\"], stdout=subprocess.PIPE\n",
    "        )\n",
    "        print(result.stdout.decode('utf-8').split('\\n'))\n",
    "        return result.stdout.decode('utf-8')\n",
    "\n",
    "    @property\n",
    "    def number_of_drives(self):\n",
    "        result = self.list_drives()\n",
    "        if result.find('\\n') == -1:\n",
    "            return 1  # Todo check for 0\n",
    "        else:\n",
    "            return len(result.split('\\n'))\n",
    "\n",
    "    def disk_open(self):\n",
    "        result = subprocess.run([self.path_root, \"--eject\", \"-device:0\"], stdout=subprocess.PIPE)\n",
    "        return result.stdout.decode('utf-8')\n",
    "\n",
    "    def disk_close(self):\n",
    "        result = subprocess.run([self.path_root, \"--load\", \"-device:0\"], stdout=subprocess.PIPE)\n",
    "        return result.stdout.decode('utf-8')\n",
    "\n",
    "    def burn_disk(self, file_name):\n",
    "        \"\"\" eg\"\"\"\n",
    "        result = subprocess.run([self.path_root, \"--burn-iso\", \"-device:0\",\n",
    "                                f'-file:{file_name}'], stdout=subprocess.PIPE)\n",
    "        print(result)\n",
    "        return result.stdout.decode('utf-8')\n",
    "    \n",
    "\n",
    "media = ODMedia()"
   ]
  },
  {
   "cell_type": "markdown",
   "metadata": {},
   "source": [
    "## Robot controller"
   ]
  },
  {
   "cell_type": "code",
   "execution_count": 2,
   "metadata": {},
   "outputs": [
    {
     "name": "stdout",
     "output_type": "stream",
     "text": [
      "Robot>import control1\r\n",
      ">>> \n"
     ]
    }
   ],
   "source": [
    "import time\n",
    "\n",
    "import od_control\n",
    "\n",
    "robot = od_control.ODRobot(media.disk_open, media.disk_close, com_port=\"COM6\")"
   ]
  },
  {
   "cell_type": "markdown",
   "metadata": {},
   "source": [
    "## DVD  control and burning"
   ]
  },
  {
   "cell_type": "code",
   "execution_count": 3,
   "metadata": {},
   "outputs": [
    {
     "name": "stdout",
     "output_type": "stream",
     "text": [
      "['0: PIONEER  BD-RW   BDR-S09  (D:\\\\)\\r', '']\n",
      "['Todo']\n"
     ]
    },
    {
     "ename": "IndexError",
     "evalue": "list index out of range",
     "output_type": "error",
     "traceback": [
      "\u001b[1;31m---------------------------------------------------------------------------\u001b[0m",
      "\u001b[1;31mIndexError\u001b[0m                                Traceback (most recent call last)",
      "\u001b[1;32m<ipython-input-3-0646f0d2e08a>\u001b[0m in \u001b[0;36m<module>\u001b[1;34m()\u001b[0m\n\u001b[0;32m     44\u001b[0m \u001b[1;33m\u001b[0m\u001b[0m\n\u001b[0;32m     45\u001b[0m \u001b[1;33m\u001b[0m\u001b[0m\n\u001b[1;32m---> 46\u001b[1;33m \u001b[0ma\u001b[0m \u001b[1;33m=\u001b[0m \u001b[0mODStatus\u001b[0m\u001b[1;33m(\u001b[0m\u001b[0mmedia\u001b[0m\u001b[1;33m)\u001b[0m\u001b[1;33m\u001b[0m\u001b[0m\n\u001b[0m\u001b[0;32m     47\u001b[0m \u001b[0mprint\u001b[0m\u001b[1;33m(\u001b[0m\u001b[0ma\u001b[0m\u001b[1;33m)\u001b[0m\u001b[1;33m\u001b[0m\u001b[0m\n",
      "\u001b[1;32m<ipython-input-3-0646f0d2e08a>\u001b[0m in \u001b[0;36m__init__\u001b[1;34m(self, media)\u001b[0m\n\u001b[0;32m     16\u001b[0m             \u001b[0mdescription\u001b[0m\u001b[1;33m=\u001b[0m\u001b[0mlines\u001b[0m\u001b[1;33m[\u001b[0m\u001b[1;36m0\u001b[0m\u001b[1;33m]\u001b[0m\u001b[1;33m.\u001b[0m\u001b[0msplit\u001b[0m\u001b[1;33m(\u001b[0m\u001b[1;34m','\u001b[0m\u001b[1;33m)\u001b[0m  \u001b[1;31m# First line\u001b[0m\u001b[1;33m\u001b[0m\u001b[0m\n\u001b[0;32m     17\u001b[0m             \u001b[0mself\u001b[0m\u001b[1;33m.\u001b[0m\u001b[0mmedia_type\u001b[0m \u001b[1;33m=\u001b[0m \u001b[0mdescription\u001b[0m\u001b[1;33m[\u001b[0m\u001b[1;36m0\u001b[0m\u001b[1;33m]\u001b[0m\u001b[1;33m\u001b[0m\u001b[0m\n\u001b[1;32m---> 18\u001b[1;33m             \u001b[0mself\u001b[0m\u001b[1;33m.\u001b[0m\u001b[0mfree_space\u001b[0m \u001b[1;33m=\u001b[0m \u001b[0mint\u001b[0m\u001b[1;33m(\u001b[0m\u001b[0mdescription\u001b[0m\u001b[1;33m[\u001b[0m\u001b[1;36m2\u001b[0m\u001b[1;33m]\u001b[0m\u001b[1;33m.\u001b[0m\u001b[0mstrip\u001b[0m\u001b[1;33m(\u001b[0m\u001b[1;33m)\u001b[0m\u001b[1;33m.\u001b[0m\u001b[0msplit\u001b[0m\u001b[1;33m(\u001b[0m\u001b[1;34m' '\u001b[0m\u001b[1;33m)\u001b[0m\u001b[1;33m[\u001b[0m\u001b[1;36m0\u001b[0m\u001b[1;33m]\u001b[0m\u001b[1;33m)\u001b[0m \u001b[1;33m*\u001b[0m \u001b[1;36m2048\u001b[0m\u001b[1;33m\u001b[0m\u001b[0m\n\u001b[0m\u001b[0;32m     19\u001b[0m             \u001b[0mself\u001b[0m\u001b[1;33m.\u001b[0m\u001b[0mcapacity\u001b[0m \u001b[1;33m=\u001b[0m \u001b[0mint\u001b[0m\u001b[1;33m(\u001b[0m\u001b[0mlines\u001b[0m\u001b[1;33m[\u001b[0m\u001b[1;36m3\u001b[0m\u001b[1;33m]\u001b[0m\u001b[1;33m.\u001b[0m\u001b[0mstrip\u001b[0m\u001b[1;33m(\u001b[0m\u001b[1;33m)\u001b[0m\u001b[1;33m.\u001b[0m\u001b[0msplit\u001b[0m\u001b[1;33m(\u001b[0m\u001b[1;34m':'\u001b[0m\u001b[1;33m)\u001b[0m\u001b[1;33m[\u001b[0m\u001b[1;36m1\u001b[0m\u001b[1;33m]\u001b[0m\u001b[1;33m.\u001b[0m\u001b[0mstrip\u001b[0m\u001b[1;33m(\u001b[0m\u001b[1;33m)\u001b[0m\u001b[1;33m)\u001b[0m \u001b[1;33m*\u001b[0m \u001b[1;36m2048\u001b[0m\u001b[1;33m\u001b[0m\u001b[0m\n\u001b[0;32m     20\u001b[0m             \u001b[0mself\u001b[0m\u001b[1;33m.\u001b[0m\u001b[0mdisk_is_blank\u001b[0m \u001b[1;33m=\u001b[0m \u001b[0mself\u001b[0m\u001b[1;33m.\u001b[0m\u001b[0mfree_space\u001b[0m \u001b[1;33m==\u001b[0m \u001b[0mself\u001b[0m\u001b[1;33m.\u001b[0m\u001b[0mcapacity\u001b[0m \u001b[1;32mand\u001b[0m \u001b[0mself\u001b[0m\u001b[1;33m.\u001b[0m\u001b[0mfree_space\u001b[0m \u001b[1;33m!=\u001b[0m \u001b[1;36m0\u001b[0m\u001b[1;33m\u001b[0m\u001b[0m\n",
      "\u001b[1;31mIndexError\u001b[0m: list index out of range"
     ]
    }
   ],
   "source": [
    "class ODStatus:\n",
    "    \"\"\"Reads the status of the optical disk in the drive.\n",
    "    Initialisation reads all the state information and then you can use the data as necessary\"\"\"\n",
    "    def __init__(self, media):\n",
    "        # Parse media information\n",
    "        self.number_of_drives = len(media.list_drives().split('\\n')[2:-4])\n",
    "        # test = media.disk_type()\n",
    "        test = \"Todo\"\n",
    "        if test == '\\rThere was an error obtaining disc info!\\r\\n':\n",
    "            self.disk_loaded = False\n",
    "        else:\n",
    "            self.disk_loaded = True\n",
    "            \"\"\"Parses disk type into a json object\"\"\"\n",
    "            lines = test.split('\\n')\n",
    "            print(lines)\n",
    "            description=lines[0].split(',')  # First line\n",
    "            self.media_type = description[0]\n",
    "            self.free_space = int(description[2].strip().split(' ')[0]) * 2048\n",
    "            self.capacity = int(lines[3].strip().split(':')[1].strip()) * 2048\n",
    "            self.disk_is_blank = self.free_space == self.capacity and self.free_space != 0\n",
    "\n",
    "    def __str__(self):\n",
    "        result = f\"Number of drives = {self.number_of_drives}\\n\"\n",
    "        if self.disk_loaded:\n",
    "            result += f\"Disk Loaded\\n\"\n",
    "            result += f\"Size = {self.capacity}\\n\"\n",
    "            result += f\"Free space = {self.free_space}\\n\"\n",
    "            if self.disk_is_blank:\n",
    "                result += f\"Blank disk\\n\"\n",
    "            else:\n",
    "                #result += f\"{self.readme}\\n\"\n",
    "                result += f\"Media type = {self.media_type}\\n\"\n",
    "\n",
    "        else:\n",
    "            result += f\"No Disk Loaded\\n\"\n",
    "        return result\n",
    "\n",
    "    def _readme(self):\n",
    "        # Assume disk loaded\n",
    "        # look for readme.markdown and then print\n",
    "        with open(\"d:/readme.markdown\",\"r\") as f:\n",
    "            content = f.readlines()\n",
    "        return content\n",
    "\n",
    "\n",
    "a = ODStatus(media)\n",
    "print(a)\n"
   ]
  },
  {
   "cell_type": "markdown",
   "metadata": {},
   "source": [
    "## Sort disks into blank and used\n",
    "This will take n disks and read them.  If blank they will be put in out bin otherwise a waste place."
   ]
  },
  {
   "cell_type": "code",
   "execution_count": null,
   "metadata": {},
   "outputs": [],
   "source": [
    "class ODError(Exception):\n",
    "    pass\n",
    "\n",
    "for i in range(9):  \n",
    "    # Check if drive empty\n",
    "    a = ODStatus(media)\n",
    "    if not a.disk_loaded:\n",
    "        robot.load()\n",
    "        a = ODStatus(media)\n",
    "        print(a)\n",
    "    if not a.disk_loaded:\n",
    "        raise ODError(f'On cycle {i} not disk was loaded and it should have been')\n",
    "    if a.disk_is_blank:\n",
    "        print(f'Disk {i} is blank')\n",
    "        robot.unload()\n",
    "    else:\n",
    "        print(f'Disk {i} has data')\n",
    "        robot.unload(destination_bin='waste')"
   ]
  },
  {
   "cell_type": "code",
   "execution_count": null,
   "metadata": {},
   "outputs": [],
   "source": [
    "# refill in bin\n",
    "for i in range(9):  \n",
    "    robot.unload(source_bin='out', destination_bin='in')"
   ]
  },
  {
   "cell_type": "markdown",
   "metadata": {},
   "source": [
    "# A Job\n",
    "- Get a list of dirs (ca 5GB)  (first time will be just two dirs as want to improve disc identification)\n",
    "- Create and archive\n",
    "- create and burn iso's\n",
    "\n",
    "TODO use pyarchive as module"
   ]
  },
  {
   "cell_type": "code",
   "execution_count": null,
   "metadata": {},
   "outputs": [],
   "source": [
    "from functools import partial\n",
    "import os\n",
    "import re\n",
    "import shutil\n",
    "\n",
    "root_path = r'Z:\\Home Pictures'\n",
    "number_start = re.compile('^\\d\\d\\d\\d')\n",
    "\n",
    "def getFolderSize(start_path = '.'):\n",
    "    total_size = 0\n",
    "    for dirpath, dirnames, filenames in os.walk(start_path):\n",
    "        for f in filenames:\n",
    "            fp = os.path.join(dirpath, f)\n",
    "            total_size += os.path.getsize(fp)\n",
    "    return total_size\n",
    "\n",
    "size_sum = 0\n",
    "results = []\n",
    "with os.scandir(root_path) as it:\n",
    "    for entry in it:\n",
    "        if not entry.is_file():\n",
    "            if number_start.search(entry.name):\n",
    "                print(entry.path)\n",
    "                folder_size = getFolderSize(entry.path) \n",
    "                size_sum += folder_size\n",
    "                results.append([entry.path, folder_size, size_sum])\n",
    "print(results)\n",
    "for i,list in enumerate(results):\n",
    "    if list[2] > 1.5*1E9:\n",
    "        print(i, list)\n",
    "        break\n",
    "# Get the list of directories\n",
    "target_dirs = [d[0] for d in results[:i]]\n",
    "print(target_dirs)"
   ]
  },
  {
   "cell_type": "code",
   "execution_count": 5,
   "metadata": {},
   "outputs": [],
   "source": [
    "import os\n",
    "from pathlib import Path\n",
    "\n",
    "from odarchive import Archiver, load_archiver_from_json\n",
    "#from h3timeit import h3_timeit\n"
   ]
  },
  {
   "cell_type": "code",
   "execution_count": 9,
   "metadata": {},
   "outputs": [
    {
     "name": "stdout",
     "output_type": "stream",
     "text": [
      "Number of entries = 97\n",
      "Data size       = 2,176,068,308 bytes\n",
      "Is segmented    = True\n",
      "  Disc segment size = cd, 737,280,000 bytes\n",
      "  Catalogue size = 32,768 bytes\n",
      "  Number of discs = 2\n",
      "Number of files = 194\n",
      "  Largest file  = 546,299,752\n",
      "Number of dirs  = 6\n",
      "Max dir depth   = 2 (on source file system)\n",
      " Dir =: /DATA/2000-12-28\n",
      "\n",
      "Disc num = |0|\n"
     ]
    },
    {
     "ename": "PermissionError",
     "evalue": "[WinError 32] The process cannot access the file because it is being used by another process: 'new_0000.iso'",
     "output_type": "error",
     "traceback": [
      "\u001b[1;31m---------------------------------------------------------------------------\u001b[0m",
      "\u001b[1;31mPermissionError\u001b[0m                           Traceback (most recent call last)",
      "\u001b[1;32m<ipython-input-9-635e77c1796d>\u001b[0m in \u001b[0;36m<module>\u001b[1;34m()\u001b[0m\n\u001b[0;32m     78\u001b[0m \u001b[1;33m\u001b[0m\u001b[0m\n\u001b[0;32m     79\u001b[0m \u001b[1;31m# test_create_job() First part\u001b[0m\u001b[1;33m\u001b[0m\u001b[1;33m\u001b[0m\u001b[0m\n\u001b[1;32m---> 80\u001b[1;33m \u001b[0mtest_create_some_iso\u001b[0m\u001b[1;33m(\u001b[0m\u001b[1;33m)\u001b[0m \u001b[1;31m# second part\u001b[0m\u001b[1;33m\u001b[0m\u001b[0m\n\u001b[0m\u001b[0;32m     81\u001b[0m \u001b[1;31m#test_burn_some_pictures() # first second and third parts\u001b[0m\u001b[1;33m\u001b[0m\u001b[1;33m\u001b[0m\u001b[0m\n",
      "\u001b[1;32m<ipython-input-9-635e77c1796d>\u001b[0m in \u001b[0;36mtest_create_some_iso\u001b[1;34m()\u001b[0m\n\u001b[0;32m     40\u001b[0m     \u001b[0mprint\u001b[0m\u001b[1;33m(\u001b[0m\u001b[0mar\u001b[0m\u001b[1;33m.\u001b[0m\u001b[0mget_info\u001b[0m\u001b[1;33m(\u001b[0m\u001b[1;33m)\u001b[0m\u001b[1;33m)\u001b[0m\u001b[1;33m\u001b[0m\u001b[0m\n\u001b[0;32m     41\u001b[0m     \u001b[1;32mfor\u001b[0m \u001b[0mn\u001b[0m \u001b[1;32min\u001b[0m \u001b[0mrange\u001b[0m\u001b[1;33m(\u001b[0m\u001b[0mar\u001b[0m\u001b[1;33m.\u001b[0m\u001b[0mlast_disc_num\u001b[0m\u001b[1;33m)\u001b[0m\u001b[1;33m:\u001b[0m\u001b[1;33m\u001b[0m\u001b[0m\n\u001b[1;32m---> 42\u001b[1;33m         \u001b[0mar\u001b[0m\u001b[1;33m.\u001b[0m\u001b[0mwrite_iso\u001b[0m\u001b[1;33m(\u001b[0m\u001b[0mdisc_num\u001b[0m\u001b[1;33m=\u001b[0m\u001b[0mn\u001b[0m\u001b[1;33m)\u001b[0m\u001b[1;33m\u001b[0m\u001b[0m\n\u001b[0m\u001b[0;32m     43\u001b[0m         \u001b[0mfilename\u001b[0m \u001b[1;33m=\u001b[0m \u001b[1;34mf\"new_{n:04}.iso\"\u001b[0m\u001b[1;33m\u001b[0m\u001b[0m\n\u001b[0;32m     44\u001b[0m         \u001b[0mprint\u001b[0m\u001b[1;33m(\u001b[0m\u001b[1;34mf'Written {filename}'\u001b[0m\u001b[1;33m)\u001b[0m\u001b[1;33m\u001b[0m\u001b[0m\n",
      "\u001b[1;32mc:\\python36\\lib\\site-packages\\odarchive\\archive.py\u001b[0m in \u001b[0;36mwrite_iso\u001b[1;34m(self, pretend, disc_num, job_name)\u001b[0m\n\u001b[0;32m    276\u001b[0m             \u001b[1;31m# If file exists then iso.write will just overwrite part of it so need to delete it first.\u001b[0m\u001b[1;33m\u001b[0m\u001b[1;33m\u001b[0m\u001b[0m\n\u001b[0;32m    277\u001b[0m             \u001b[1;32mtry\u001b[0m\u001b[1;33m:\u001b[0m\u001b[1;33m\u001b[0m\u001b[0m\n\u001b[1;32m--> 278\u001b[1;33m                 \u001b[0mos\u001b[0m\u001b[1;33m.\u001b[0m\u001b[0mremove\u001b[0m\u001b[1;33m(\u001b[0m\u001b[0mfilename\u001b[0m\u001b[1;33m)\u001b[0m\u001b[1;33m\u001b[0m\u001b[0m\n\u001b[0m\u001b[0;32m    279\u001b[0m             \u001b[1;32mexcept\u001b[0m \u001b[0mFileNotFoundError\u001b[0m\u001b[1;33m:\u001b[0m\u001b[1;33m\u001b[0m\u001b[0m\n\u001b[0;32m    280\u001b[0m                 \u001b[1;32mpass\u001b[0m\u001b[1;33m\u001b[0m\u001b[0m\n",
      "\u001b[1;31mPermissionError\u001b[0m: [WinError 32] The process cannot access the file because it is being used by another process: 'new_0000.iso'"
     ]
    }
   ],
   "source": [
    "\"\"\"\n",
    "This should make for easier debugging\n",
    "It creates a single archive and prints out the information for it.\n",
    "On the Z drive\n",
    "timeit started 2018-06-18 11:15:25.988937\n",
    "Initializing file database\n",
    "Number of files = 40,954\n",
    "Data size       = 228,605,334,662\n",
    "Is segmented    = False\n",
    "Number of dirs  = 1458\n",
    "Max dir depth   = 11 (on source file system)\n",
    " Dir =: Z:\\Home Pictures\\H3 to Sort\\2012-06-29\\ManualArchive\\Apalone\\Quotes\\healthMan\\awstats\\awstats\\icon\\flags\n",
    "\n",
    "'test_scan_Z_drive'  436541.60 ms\n",
    "\n",
    "\"\"\"\n",
    "\n",
    "\n",
    "def test_create_job():\n",
    "    # Archive part\n",
    "    ar = Archiver()\n",
    "    ar.create_file_database(Path(\"Z:\\\\Home Pictures\\\\2000\"))\n",
    "    ar.save()\n",
    "    ar.convert_to_hash_database(verbose = True)\n",
    "    ar.hash_db.save()  #  Creates catalogue.json\n",
    "    ar.save()\n",
    "    # ar = load_archiver_from_json()  only once catalogue.json has been crate\n",
    "    ar.segment(\"cd\")\n",
    "    ar.save()\n",
    "    ar.hash_db.save()\n",
    "    print(ar.file_db.get_info())\n",
    "\n",
    "def test_create_some_iso():\n",
    "    ar = load_archiver_from_json()  #only once catalogue.json has been crate\n",
    "    print(ar.get_info())\n",
    "    for n in range(ar.last_disc_num):\n",
    "        ar.write_iso(disc_num=n)\n",
    "        filename = f\"new_{n:04}.iso\"\n",
    "        print(f'Written {filename}')\n",
    "\n",
    "def test_burn_some_pictures():\n",
    "    # Check and make sure drive is empty\n",
    "    a = ODStatus(media)\n",
    "    if a.disk_loaded:\n",
    "        print(f'Drive had disk in which is being put into waste bin')\n",
    "        robot.unload(destination_bin='waste') \n",
    "    # Archive part\n",
    "    ar = Archiver()\n",
    "    ar.create_file_database(Path(\"Z:\\\\Home Pictures\\\\2000\"))\n",
    "    ar.save()\n",
    "    ar.convert_to_hash_database(verbose = True)\n",
    "    ar.hash_db.save()  #  Creates catalogue.json\n",
    "    ar.save()\n",
    "    # ar = load_archiver_from_json()  only once catalogue.json has been crate\n",
    "    ar.segment(\"cd\")\n",
    "    ar.save()\n",
    "    ar.hash_db.save()\n",
    "    print(ar.file_db.get_info())\n",
    "    for n in range(ar.last_disc_num):\n",
    "        #ar = load_archiver_from_json()\n",
    "        ar.write_iso(disc_num=n)\n",
    "        # TODO make filename part of archiver\n",
    "        filename = f\"new_{n:04}.iso\"\n",
    "        # Load drive and burn disc\n",
    "        robot.load()\n",
    "        a = ODStatus(media)\n",
    "        print(a)\n",
    "        if a.disk_is_blank:\n",
    "            media.burn_disk(filename)\n",
    "            robot.unload()\n",
    "        else:\n",
    "            raise ODError(f'Cycle {n} and had non blank disk')\n",
    "\n",
    "# test_create_job() First part\n",
    "test_create_some_iso() # second part\n",
    "#test_burn_some_pictures() # first second and third parts\n"
   ]
  },
  {
   "cell_type": "code",
   "execution_count": 7,
   "metadata": {},
   "outputs": [
    {
     "name": "stdout",
     "output_type": "stream",
     "text": [
      "Number of entries = 102\n",
      "Data size       = 1,088,035,534 bytes\n",
      "Number of dirs  = 6\n",
      "Max dir depth   = 4 (on source file system)\n",
      " Dir =: Z:\\Home Pictures\\2000\\2000-12-28\\Xmas 00\n",
      "\n",
      "Disc num = |0|\n",
      "Robot>control1.th.release()\n",
      ">>> \n",
      "Robot>control1.z_axis.nudge(51,run_time=150)\n",
      "Shutdown Z Axis nudge\n",
      ">>> \n",
      "Robot>control1.th.grip()\n",
      ">>> \n",
      "Robot>control1.z_axis.nudge(51,run_time=40)\n",
      "Shutdown Z Axis nudge\n",
      ">>> \n",
      "Robot>control1.th.release()\n",
      ">>> \n",
      "CompletedProcess(args=['C:\\\\Program Files (x86)\\\\CDBurnerXP\\\\cdbxpcmd.exe', '--burn-iso', '-device:0', '-file:new_0000.iso'], returncode=0, stdout=b'Starting to burn ISO image from new_0000.iso...\\r\\n0%\\r\\n1%\\r\\n2%\\r\\n3%\\r\\n4%\\r\\n5%\\r\\n6%\\r\\n7%\\r\\n8%\\r\\n9%\\r\\n10%\\r\\n11%\\r\\n12%\\r\\n13%\\r\\n14%\\r\\n15%\\r\\n16%\\r\\n17%\\r\\n18%\\r\\n19%\\r\\n20%\\r\\n21%\\r\\n22%\\r\\n23%\\r\\n24%\\r\\n25%\\r\\n26%\\r\\n27%\\r\\n28%\\r\\n29%\\r\\n30%\\r\\n31%\\r\\n32%\\r\\n33%\\r\\n34%\\r\\n35%\\r\\n36%\\r\\n37%\\r\\n38%\\r\\n39%\\r\\n40%\\r\\n41%\\r\\n42%\\r\\n43%\\r\\n44%\\r\\n45%\\r\\n46%\\r\\n47%\\r\\n48%\\r\\n49%\\r\\n50%\\r\\n51%\\r\\n52%\\r\\n53%\\r\\n54%\\r\\n55%\\r\\n56%\\r\\n57%\\r\\n58%\\r\\n59%\\r\\n60%\\r\\n61%\\r\\n62%\\r\\n63%\\r\\n64%\\r\\n65%\\r\\n66%\\r\\n67%\\r\\n68%\\r\\n69%\\r\\n70%\\r\\n71%\\r\\n72%\\r\\n73%\\r\\n74%\\r\\n75%\\r\\n76%\\r\\n77%\\r\\n78%\\r\\n79%\\r\\n80%\\r\\n81%\\r\\n82%\\r\\n83%\\r\\n84%\\r\\n85%\\r\\n86%\\r\\n87%\\r\\n88%\\r\\n89%\\r\\n90%\\r\\n91%\\r\\n92%\\r\\n93%\\r\\n94%\\r\\n95%\\r\\n96%\\r\\n97%\\r\\n98%\\r\\n99%\\r\\n100%\\r\\n100%\\r\\n100%\\r\\n')\n",
      "Disc num = |1|\n",
      "Robot>control1.th.release()\n",
      ">>> \n",
      "Robot>control1.z_axis.nudge(51,run_time=150)\n",
      "Shutdown Z Axis nudge\n",
      ">>> \n",
      "Robot>control1.th.grip()\n",
      ">>> \n",
      "Robot>control1.z_axis.nudge(51,run_time=40)\n",
      "Shutdown Z Axis nudge\n",
      ">>> \n",
      "Robot>control1.th.release()\n",
      ">>> \n",
      "CompletedProcess(args=['C:\\\\Program Files (x86)\\\\CDBurnerXP\\\\cdbxpcmd.exe', '--burn-iso', '-device:0', '-file:new_0001.iso'], returncode=2147746439, stdout=b'Starting to burn ISO image from new_0001.iso...\\r\\nAn error (80040287) occured while executing the command: Disc is finalized:\\nThe disc is finalized! Note that is not possible to write data on the finalized disc!\\r\\n')\n"
     ]
    }
   ],
   "source": [
    "## If failed but have archive then use this code\n",
    "def test_burn_isos():\n",
    "    # Check and make sure drive is empty\n",
    "    #a = ODStatus(media)\n",
    "    #if a.disk_loaded:\n",
    "    #    print(f'Drive had disk in which is being put into waste bin')\n",
    "    #    robot.unload(destination_bin='waste') \n",
    "    # Archive part\n",
    "    ar = load_archiver_from_json()  # Assume segmented and ready to burn\n",
    "    print(ar.file_db.get_info())\n",
    "    for n in range(ar.last_disc_num+1):\n",
    "        #ar = load_archiver_from_json()\n",
    "        ar.write_iso(disc_num=n)\n",
    "        # TODO make filename part of archiver\n",
    "        filename = f\"new_{n:04}.iso\"\n",
    "        # Load drive and burn disc\n",
    "        robot.load()\n",
    "        media.burn_disk(filename)\n",
    "        #a = ODStatus(media)\n",
    "        #print(a)\n",
    "        #if a.disk_is_blank:\n",
    "        #    media.burn_disk(filename)\n",
    "        #    robot.unload()\n",
    "        #else:\n",
    "        #    raise ODError(f'Cycle {n} and had non blank disk')\n",
    "\n",
    "        \n",
    "test_burn_isos()"
   ]
  },
  {
   "cell_type": "code",
   "execution_count": null,
   "metadata": {},
   "outputs": [],
   "source": [
    "#Test\n",
    "robot.load(source_bin='out')"
   ]
  },
  {
   "cell_type": "code",
   "execution_count": 10,
   "metadata": {
    "scrolled": true
   },
   "outputs": [
    {
     "data": {
      "text/plain": [
       "'Closing tray...\\r\\n'"
      ]
     },
     "execution_count": 10,
     "metadata": {},
     "output_type": "execute_result"
    }
   ],
   "source": [
    "robot.disk_close()"
   ]
  },
  {
   "cell_type": "code",
   "execution_count": 11,
   "metadata": {},
   "outputs": [
    {
     "name": "stdout",
     "output_type": "stream",
     "text": [
      "Robot>control1.th.release()\n",
      ">>> \n",
      "Robot>control1.z_axis.nudge(50,run_time=70)\n",
      "Shutdown Z Axis nudge\n",
      ">>> \n",
      "Robot>control1.th.grip()\n",
      ">>> \n",
      "Robot>control1.z_axis.nudge(50,run_time=20)\n",
      "Shutdown Z Axis nudge\n",
      ">>> \n",
      "Robot>control1.th.release()\n",
      ">>> \n"
     ]
    }
   ],
   "source": [
    "# Reject disk and load new blank\n",
    "robot.unload() #(destination_bin='waste')\n",
    "#robot.load()"
   ]
  },
  {
   "cell_type": "markdown",
   "metadata": {},
   "source": [
    "## Temporary playpen\n"
   ]
  },
  {
   "cell_type": "code",
   "execution_count": null,
   "metadata": {},
   "outputs": [],
   "source": [
    "robot.disk_close()\n",
    "a = ODStatus(media)\n",
    "print(a)"
   ]
  },
  {
   "cell_type": "code",
   "execution_count": null,
   "metadata": {},
   "outputs": [],
   "source": []
  }
 ],
 "metadata": {
  "kernelspec": {
   "display_name": "Python 3",
   "language": "python",
   "name": "python3"
  },
  "language_info": {
   "codemirror_mode": {
    "name": "ipython",
    "version": 3
   },
   "file_extension": ".py",
   "mimetype": "text/x-python",
   "name": "python",
   "nbconvert_exporter": "python",
   "pygments_lexer": "ipython3",
   "version": "3.6.3"
  }
 },
 "nbformat": 4,
 "nbformat_minor": 2
}
