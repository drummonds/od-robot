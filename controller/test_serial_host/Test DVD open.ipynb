{
 "cells": [
  {
   "cell_type": "code",
   "execution_count": 4,
   "metadata": {},
   "outputs": [
    {
     "name": "stdout",
     "output_type": "stream",
     "text": [
      "54525964\n",
      "['C', 'D']\n"
     ]
    }
   ],
   "source": [
    "import string\n",
    "from ctypes import windll\n",
    "\n",
    "def get_drives():\n",
    "    drives = []\n",
    "    bitmask = windll.kernel32.GetLogicalDrives()\n",
    "    print(bitmask)\n",
    "    for letter in 'ABCDEFGHIJKLMNOPQ':\n",
    "        if bitmask & 1:\n",
    "            drives.append(letter)\n",
    "        bitmask >>= 1\n",
    "\n",
    "    return drives\n",
    "\n",
    "print(get_drives())"
   ]
  },
  {
   "cell_type": "code",
   "execution_count": 9,
   "metadata": {},
   "outputs": [
    {
     "data": {
      "text/plain": [
       "0"
      ]
     },
     "execution_count": 9,
     "metadata": {},
     "output_type": "execute_result"
    }
   ],
   "source": [
    "import ctypes\n",
    "\n",
    "ctypes.windll.WINMM.mciSendStringW(u\"set cdaudio door open\", None, 0, None)"
   ]
  },
  {
   "cell_type": "code",
   "execution_count": 10,
   "metadata": {},
   "outputs": [
    {
     "data": {
      "text/plain": [
       "0"
      ]
     },
     "execution_count": 10,
     "metadata": {},
     "output_type": "execute_result"
    }
   ],
   "source": [
    "ctypes.windll.WINMM.mciSendStringW(u\"set cdaudio door closed\", None, 0, None)"
   ]
  },
  {
   "cell_type": "code",
   "execution_count": null,
   "metadata": {},
   "outputs": [],
   "source": []
  }
 ],
 "metadata": {
  "kernelspec": {
   "display_name": "Python 3",
   "language": "python",
   "name": "python3"
  },
  "language_info": {
   "codemirror_mode": {
    "name": "ipython",
    "version": 3
   },
   "file_extension": ".py",
   "mimetype": "text/x-python",
   "name": "python",
   "nbconvert_exporter": "python",
   "pygments_lexer": "ipython3",
   "version": "3.6.3"
  }
 },
 "nbformat": 4,
 "nbformat_minor": 2
}
