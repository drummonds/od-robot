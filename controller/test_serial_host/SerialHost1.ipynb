{
 "cells": [
  {
   "cell_type": "markdown",
   "metadata": {},
   "source": [
    "# Serial Host\n",
    "Testing sending commands and controlling a Pycom program with the serial REPL loop.\n"
   ]
  },
  {
   "cell_type": "code",
   "execution_count": null,
   "metadata": {},
   "outputs": [],
   "source": [
    "import serial"
   ]
  },
  {
   "cell_type": "code",
   "execution_count": null,
   "metadata": {},
   "outputs": [],
   "source": [
    "ser = serial.Serial()\n",
    "ser.baudrate = 115200\n",
    "ser.port = 'COM6'\n",
    "ser.timeout=2\n",
    "ser"
   ]
  },
  {
   "cell_type": "code",
   "execution_count": null,
   "metadata": {},
   "outputs": [],
   "source": [
    "with ser:\n",
    "    ser.write(0x0D)\n",
    "    s = ser.read(100)\n",
    "    print(s)"
   ]
  },
  {
   "cell_type": "code",
   "execution_count": null,
   "metadata": {},
   "outputs": [],
   "source": [
    "import sys\n",
    "sys.version"
   ]
  },
  {
   "cell_type": "code",
   "execution_count": null,
   "metadata": {},
   "outputs": [],
   "source": [
    "print(ser)\n",
    "ser.open()\n",
    "print(f\" Is open ? {ser.is_open}\")\n",
    "ser.write(0x0D)\n",
    "s = ser.read(100)\n",
    "print(s)\n",
    "ser.close()"
   ]
  },
  {
   "cell_type": "code",
   "execution_count": null,
   "metadata": {},
   "outputs": [],
   "source": [
    "Serial<id=0xa81c10, open=False>(port='COM1', baudrate=19200, bytesize=8, parity='N', stopbits=1, timeout=None, xonxoff=0, rtscts=0)\n",
    ">>> ser.open()\n",
    ">>> ser.is_open\n",
    "True\n",
    ">>> ser.close()\n"
   ]
  },
  {
   "cell_type": "code",
   "execution_count": null,
   "metadata": {},
   "outputs": [],
   "source": [
    "ser.open()"
   ]
  },
  {
   "cell_type": "code",
   "execution_count": null,
   "metadata": {},
   "outputs": [],
   "source": [
    "ser.read(10)"
   ]
  },
  {
   "cell_type": "code",
   "execution_count": null,
   "metadata": {},
   "outputs": [
    {
     "name": "stdout",
     "output_type": "stream",
     "text": [
      "Enter your commands below.\n",
      "Insert \"exit\" to leave the application.\n",
      ">> \n",
      ">>\n",
      ">>> \n"
     ]
    }
   ],
   "source": [
    "import time\n",
    "import serial\n",
    "\n",
    "# configure the serial connections (the parameters differs on the device you are connecting to)\n",
    "ser = serial.Serial(\n",
    "    port='COM6',\n",
    "    baudrate=115200,\n",
    "    #parity=serial.PARITY_ODD,\n",
    "    #stopbits=serial.STOPBITS_TWO,\n",
    "    #bytesize=serial.SEVENBITS\n",
    ")\n",
    "\n",
    "ser.isOpen()\n",
    "\n",
    "print('Enter your commands below.\\r\\nInsert \"exit\" to leave the application.')\n",
    "\n",
    "#input=1\n",
    "while 1 :\n",
    "    # get keyboard input\n",
    "    user_input = input(\">> \")\n",
    "    if user_input == 'exit':\n",
    "        ser.close()\n",
    "        exit()\n",
    "    else:\n",
    "        # send the character to the device\n",
    "        # (note that I happend a \\r\\n carriage return and line feed to the characters - this is requested by my device)\n",
    "        ser.write((user_input + '\\r\\n').encode('utf-8'))\n",
    "        out = ''\n",
    "        # let's wait one second before reading output (let's give device time to answer)\n",
    "        time.sleep(1)\n",
    "        while ser.inWaiting() > 0:\n",
    "            out += ser.read(1).decode('utf-8')\n",
    "        if out != '':\n",
    "            print(\">>\" + out)"
   ]
  },
  {
   "cell_type": "code",
   "execution_count": null,
   "metadata": {},
   "outputs": [],
   "source": [
    "ser.close()\n"
   ]
  },
  {
   "cell_type": "code",
   "execution_count": null,
   "metadata": {},
   "outputs": [],
   "source": []
  }
 ],
 "metadata": {
  "kernelspec": {
   "display_name": "Python 3",
   "language": "python",
   "name": "python3"
  },
  "language_info": {
   "codemirror_mode": {
    "name": "ipython",
    "version": 3
   },
   "file_extension": ".py",
   "mimetype": "text/x-python",
   "name": "python",
   "nbconvert_exporter": "python",
   "pygments_lexer": "ipython3",
   "version": "3.6.3"
  }
 },
 "nbformat": 4,
 "nbformat_minor": 2
}
